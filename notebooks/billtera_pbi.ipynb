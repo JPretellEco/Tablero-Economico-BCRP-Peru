{
 "cells": [
  {
   "cell_type": "markdown",
   "id": "acedd3ef",
   "metadata": {
    "id": "acedd3ef"
   },
   "source": [
    "# Indicadores Económicos - Trimestrales"
   ]
  },
  {
   "cell_type": "code",
   "execution_count": 1,
   "id": "3a7092ab",
   "metadata": {},
   "outputs": [],
   "source": [
    "from bs4 import BeautifulSoup\n",
    "import requests\n",
    "import pandas as pd"
   ]
  },
  {
   "cell_type": "code",
   "execution_count": 2,
   "id": "0600a844",
   "metadata": {
    "executionInfo": {
     "elapsed": 31,
     "status": "ok",
     "timestamp": 1750105842210,
     "user": {
      "displayName": "Jeffersson Pretell",
      "userId": "10160713941337198683"
     },
     "user_tz": 300
    },
    "id": "0600a844"
   },
   "outputs": [],
   "source": [
    "fecha = pd.read_html('https://estadisticas.bcrp.gob.pe/estadisticas/series/trimestrales/resultados/PN02541AQ/html',header=0)[1].iloc[:,0]"
   ]
  },
  {
   "cell_type": "code",
   "execution_count": 3,
   "id": "eb34e97a",
   "metadata": {},
   "outputs": [],
   "source": [
    "consumo_privado = pd.read_html('https://estadisticas.bcrp.gob.pe/estadisticas/series/trimestrales/resultados/PN02541AQ/html',header=0)[1].iloc[:, 1:]\n",
    "consumo_privado_real = pd.read_html('https://estadisticas.bcrp.gob.pe/estadisticas/series/trimestrales/resultados/PN02529AQ/html',header=0)[1].iloc[:, 1:]"
   ]
  },
  {
   "cell_type": "code",
   "execution_count": 4,
   "id": "3f591ed8",
   "metadata": {},
   "outputs": [],
   "source": [
    "inverrsion = pd.read_html('https://estadisticas.bcrp.gob.pe/estadisticas/series/trimestrales/resultados/PN02544AQ/html', header=0)[1].iloc[:, 1:]\n",
    "inversion_real = pd.read_html('https://estadisticas.bcrp.gob.pe/estadisticas/series/trimestrales/resultados/PN02532AQ/html', header=0)[1].iloc[:, 1:]"
   ]
  },
  {
   "cell_type": "code",
   "execution_count": 5,
   "id": "2b3d5fdf",
   "metadata": {},
   "outputs": [],
   "source": [
    "gasto_publico = pd.read_html('https://estadisticas.bcrp.gob.pe/estadisticas/series/trimestrales/resultados/PN02542AQ/html',header=0)[1].iloc[:, 1:]\n",
    "gasto_publico_real = pd.read_html('https://estadisticas.bcrp.gob.pe/estadisticas/series/trimestrales/resultados/PN02530AQ/html',header=0)[1].iloc[:, 1:]"
   ]
  },
  {
   "cell_type": "code",
   "execution_count": 6,
   "id": "928ef124",
   "metadata": {},
   "outputs": [],
   "source": [
    "# Sector externo\n",
    "## Exportaciones \n",
    "exportaciones_nominales = pd.read_html('https://estadisticas.bcrp.gob.pe/estadisticas/series/trimestrales/resultados/PN02548AQ/html', header=0)[1].iloc[:, 1:]\n",
    "exportaciones_reales = pd.read_html('https://estadisticas.bcrp.gob.pe/estadisticas/series/trimestrales/resultados/PN02536AQ/html',header=0)[1].iloc[:, 1:]\n",
    "\n",
    "## Importaciones \n",
    "importaciones_nominales = pd.read_html('https://estadisticas.bcrp.gob.pe/estadisticas/series/trimestrales/resultados/PN02549AQ/html', header=0)[1].iloc[:, 1:]\n",
    "importaciones_reales = pd.read_html('https://estadisticas.bcrp.gob.pe/estadisticas/series/trimestrales/resultados/PN02537AQ/html', header=0)[1].iloc[:, 1:]\n"
   ]
  },
  {
   "cell_type": "code",
   "execution_count": 7,
   "id": "5143b0d5",
   "metadata": {},
   "outputs": [],
   "source": [
    "# Juntamos toda la tabla\n",
    "\n",
    "tabla_trimestral_indicadores = pd.concat([fecha,\n",
    "                                        consumo_privado,\n",
    "                                         consumo_privado_real,\n",
    "                                         inverrsion,\n",
    "                                         inversion_real,\n",
    "                                         gasto_publico,\n",
    "                                         gasto_publico_real,\n",
    "                                         exportaciones_nominales,\n",
    "                                         exportaciones_reales,\n",
    "                                         importaciones_nominales,\n",
    "                                         importaciones_reales], axis=1)"
   ]
  },
  {
   "cell_type": "code",
   "execution_count": 8,
   "id": "d97b5aba",
   "metadata": {},
   "outputs": [],
   "source": [
    "tabla_trimestral_indicadores.dropna(inplace=True)"
   ]
  },
  {
   "cell_type": "code",
   "execution_count": 9,
   "id": "1beca114",
   "metadata": {},
   "outputs": [],
   "source": [
    "for i in tabla_trimestral_indicadores.iloc[:,1:].columns:\n",
    "    tabla_trimestral_indicadores[i] = tabla_trimestral_indicadores[i].astype('float')"
   ]
  },
  {
   "cell_type": "code",
   "execution_count": null,
   "id": "8b997a84",
   "metadata": {},
   "outputs": [],
   "source": [
    "import pandas as pd\n",
    "\n",
    "def convertir_trimestre_a_fecha(columna):\n",
    "    def convertir(codigo):\n",
    "        try:\n",
    "            trimestre = int(codigo[1])\n",
    "            anio_base = int(codigo[2:])\n",
    "            \n",
    "            if anio_base >= 80:\n",
    "                anio = 1900 + anio_base\n",
    "            else:\n",
    "                anio = 2000 + anio_base\n",
    "\n",
    "            mes = (trimestre - 1) * 3 + 1\n",
    "            return pd.Timestamp(anio, mes, 1)\n",
    "        except:\n",
    "            return pd.NaT\n",
    "    \n",
    "    return columna.apply(convertir)\n",
    "\n",
    "from datetime import datetime\n",
    "\n",
    "from datetime import datetime\n",
    "\n",
    "def convertir_mes_fecha(texto):\n",
    "    meses = {\n",
    "        \"Ene\": \"01\", \"Feb\": \"02\", \"Mar\": \"03\", \"Abr\": \"04\",\n",
    "        \"May\": \"05\", \"Jun\": \"06\", \"Jul\": \"07\", \"Ago\": \"08\",\n",
    "        \"Set\": \"09\", \"Sep\": \"09\", \"Oct\": \"10\", \"Nov\": \"11\", \"Dic\": \"12\"\n",
    "    }\n",
    "\n",
    "    if not isinstance(texto, str):\n",
    "        return None  # o puedes usar np.nan\n",
    "\n",
    "    mes_abbr = texto[:3].capitalize()\n",
    "    anio_abbr = texto[3:]\n",
    "\n",
    "    if mes_abbr not in meses:\n",
    "        raise ValueError(f\"Mes inválido: {mes_abbr}\")\n",
    "\n",
    "    anio_completo = int(anio_abbr)\n",
    "    anio_completo = anio_completo + 2000 if anio_completo <= 25 else anio_completo + 1900\n",
    "\n",
    "    fecha_str = f\"{anio_completo}-{meses[mes_abbr]}-01\"\n",
    "    return pd.to_datetime(fecha_str)\n",
    "\n",
    "\n",
    "\n",
    "def convertir_fecha_espanol(valor):\n",
    "    meses_es = {\n",
    "        'Ene': 'Jan', 'Feb': 'Feb', 'Mar': 'Mar', 'Abr': 'Apr',\n",
    "        'May': 'May', 'Jun': 'Jun', 'Jul': 'Jul', 'Ago': 'Aug',\n",
    "        'Set': 'Sep', 'Sep': 'Sep', 'Oct': 'Oct', 'Nov': 'Nov', 'Dic': 'Dec'\n",
    "    }\n",
    "    \n",
    "    try:\n",
    "       \n",
    "        dia = valor[:2]\n",
    "        mes_es = valor[2:5].capitalize()\n",
    "        anio = valor[5:]\n",
    "\n",
    "       \n",
    "        mes_en = meses_es.get(mes_es)\n",
    "\n",
    "        if mes_en is None:\n",
    "            return pd.NaT \n",
    "\n",
    "     \n",
    "        fecha_texto = f\"{dia}{mes_en}{anio}\"\n",
    "\n",
    "       \n",
    "        return pd.to_datetime(fecha_texto, format='%d%b%y')\n",
    "    \n",
    "    except Exception:\n",
    "        return pd.NaT\n",
    "\n",
    "\n"
   ]
  },
  {
   "cell_type": "code",
   "execution_count": 11,
   "id": "42ea924a",
   "metadata": {},
   "outputs": [],
   "source": [
    "tabla_trimestral_indicadores['Fecha'] = convertir_trimestre_a_fecha(tabla_trimestral_indicadores['Fecha'])"
   ]
  },
  {
   "cell_type": "code",
   "execution_count": 12,
   "id": "6c775268",
   "metadata": {},
   "outputs": [
    {
     "data": {
      "application/vnd.microsoft.datawrangler.viewer.v0+json": {
       "columns": [
        {
         "name": "index",
         "rawType": "int64",
         "type": "integer"
        },
        {
         "name": "Fecha",
         "rawType": "datetime64[ns]",
         "type": "datetime"
        },
        {
         "name": "Producto bruto interno por tipo de gasto (millones S/) - Demanda Interna - Consumo Privado",
         "rawType": "float64",
         "type": "float"
        },
        {
         "name": "Producto bruto interno por tipo de gasto (millones S/ 2007) - Demanda Interna - Consumo Privado",
         "rawType": "float64",
         "type": "float"
        },
        {
         "name": "Producto bruto interno por tipo de gasto (millones S/) - Demanda Interna - Inversión Bruta Interna - Inversión Bruta Fija",
         "rawType": "float64",
         "type": "float"
        },
        {
         "name": "Producto bruto interno por tipo de gasto (millones S/ 2007) - Demanda Interna - Inversión Bruta Interna - Inversión Bruta Fija",
         "rawType": "float64",
         "type": "float"
        },
        {
         "name": "Producto bruto interno por tipo de gasto (millones S/) - Demanda Interna - Consumo Público",
         "rawType": "float64",
         "type": "float"
        },
        {
         "name": "Producto bruto interno por tipo de gasto (millones S/ 2007) - Demanda Interna - Consumo Público",
         "rawType": "float64",
         "type": "float"
        },
        {
         "name": "Producto bruto interno por tipo de gasto (millones S/) - Exportaciones",
         "rawType": "float64",
         "type": "float"
        },
        {
         "name": "Producto bruto interno por tipo de gasto (millones S/ 2007) - Exportaciones",
         "rawType": "float64",
         "type": "float"
        },
        {
         "name": "Producto bruto interno por tipo de gasto (millones S/) - Importaciones",
         "rawType": "float64",
         "type": "float"
        },
        {
         "name": "Producto bruto interno por tipo de gasto (millones S/ 2007) - Importaciones",
         "rawType": "float64",
         "type": "float"
        }
       ],
       "ref": "1e212906-851a-4add-8148-7955634620ac",
       "rows": [
        [
         "0",
         "1980-01-01 00:00:00",
         "549.0",
         "23549.0",
         "220.0",
         "4943.0",
         "142.0",
         "5084.0",
         "325.0",
         "7368.0",
         "210.0",
         "3647.0"
        ],
        [
         "1",
         "1980-04-01 00:00:00",
         "602.0",
         "22797.0",
         "285.0",
         "5599.0",
         "155.0",
         "4612.0",
         "301.0",
         "7878.0",
         "280.0",
         "4136.0"
        ],
        [
         "2",
         "1980-07-01 00:00:00",
         "767.0",
         "25670.0",
         "309.0",
         "6444.0",
         "186.0",
         "4863.0",
         "337.0",
         "8322.0",
         "296.0",
         "4738.0"
        ],
        [
         "3",
         "1980-10-01 00:00:00",
         "916.0",
         "24810.0",
         "455.0",
         "6622.0",
         "200.0",
         "4584.0",
         "399.0",
         "8894.0",
         "390.0",
         "4756.0"
        ],
        [
         "4",
         "1981-01-01 00:00:00",
         "1101.0",
         "24239.0",
         "452.0",
         "6689.0",
         "256.0",
         "6646.0",
         "384.0",
         "7886.0",
         "421.0",
         "5367.0"
        ],
        [
         "5",
         "1981-04-01 00:00:00",
         "1173.0",
         "24316.0",
         "541.0",
         "7888.0",
         "290.0",
         "6064.0",
         "405.0",
         "7449.0",
         "508.0",
         "6555.0"
        ],
        [
         "6",
         "1981-07-01 00:00:00",
         "1450.0",
         "27480.0",
         "639.0",
         "7310.0",
         "313.0",
         "5765.0",
         "449.0",
         "6788.0",
         "502.0",
         "6141.0"
        ],
        [
         "7",
         "1981-10-01 00:00:00",
         "1579.0",
         "28587.0",
         "911.0",
         "9561.0",
         "334.0",
         "5710.0",
         "488.0",
         "7623.0",
         "660.0",
         "7187.0"
        ],
        [
         "8",
         "1982-01-01 00:00:00",
         "1717.0",
         "28250.0",
         "865.0",
         "8457.0",
         "441.0",
         "6374.0",
         "518.0",
         "7675.0",
         "666.0",
         "7018.0"
        ],
        [
         "9",
         "1982-04-01 00:00:00",
         "1806.0",
         "26248.0",
         "951.0",
         "8966.0",
         "408.0",
         "6060.0",
         "678.0",
         "6997.0",
         "738.0",
         "7778.0"
        ],
        [
         "10",
         "1982-07-01 00:00:00",
         "2382.0",
         "29346.0",
         "1105.0",
         "8993.0",
         "794.0",
         "5837.0",
         "765.0",
         "7000.0",
         "828.0",
         "7005.0"
        ],
        [
         "11",
         "1982-10-01 00:00:00",
         "2613.0",
         "28596.0",
         "1471.0",
         "11330.0",
         "476.0",
         "5464.0",
         "957.0",
         "7300.0",
         "1190.0",
         "8098.0"
        ],
        [
         "12",
         "1983-01-01 00:00:00",
         "3102.0",
         "27416.0",
         "1115.0",
         "9264.0",
         "727.0",
         "6597.0",
         "876.0",
         "7778.0",
         "891.0",
         "7625.0"
        ],
        [
         "13",
         "1983-04-01 00:00:00",
         "3675.0",
         "25226.0",
         "1194.0",
         "8766.0",
         "1027.0",
         "4970.0",
         "1444.0",
         "8523.0",
         "1423.0",
         "7325.0"
        ],
        [
         "14",
         "1983-07-01 00:00:00",
         "4779.0",
         "29457.0",
         "1649.0",
         "8465.0",
         "1056.0",
         "9703.0",
         "1966.0",
         "7612.0",
         "1679.0",
         "6864.0"
        ],
        [
         "15",
         "1983-10-01 00:00:00",
         "5307.0",
         "27627.0",
         "2382.0",
         "9814.0",
         "1027.0",
         "4683.0",
         "1984.0",
         "7943.0",
         "2131.0",
         "8160.0"
        ],
        [
         "16",
         "1984-01-01 00:00:00",
         "6588.0",
         "26792.0",
         "2036.0",
         "6116.0",
         "1311.0",
         "6340.0",
         "2218.0",
         "6412.0",
         "1812.0",
         "5051.0"
        ],
        [
         "17",
         "1984-04-01 00:00:00",
         "7624.0",
         "25384.0",
         "2559.0",
         "5600.0",
         "1566.0",
         "6889.0",
         "2982.0",
         "7731.0",
         "2423.0",
         "6305.0"
        ],
        [
         "18",
         "1984-07-01 00:00:00",
         "10256.0",
         "26468.0",
         "3336.0",
         "6136.0",
         "2073.0",
         "5604.0",
         "3901.0",
         "7345.0",
         "2938.0",
         "5561.0"
        ],
        [
         "19",
         "1984-10-01 00:00:00",
         "12476.0",
         "24944.0",
         "4405.0",
         "7781.0",
         "2278.0",
         "5004.0",
         "4580.0",
         "6709.0",
         "3898.0",
         "5966.0"
        ],
        [
         "20",
         "1985-01-01 00:00:00",
         "16492.0",
         "25523.0",
         "4820.0",
         "5913.0",
         "3315.0",
         "6179.0",
         "6255.0",
         "7369.0",
         "4887.0",
         "4545.0"
        ],
        [
         "21",
         "1985-04-01 00:00:00",
         "20429.0",
         "24516.0",
         "6284.0",
         "5765.0",
         "4452.0",
         "5500.0",
         "9525.0",
         "7628.0",
         "7107.0",
         "4912.0"
        ],
        [
         "22",
         "1985-07-01 00:00:00",
         "28739.0",
         "27980.0",
         "7982.0",
         "6172.0",
         "5409.0",
         "5334.0",
         "13939.0",
         "7684.0",
         "9253.0",
         "4772.0"
        ],
        [
         "23",
         "1985-10-01 00:00:00",
         "32264.0",
         "28425.0",
         "10620.0",
         "6855.0",
         "6227.0",
         "5257.0",
         "14591.0",
         "7607.0",
         "9785.0",
         "5033.0"
        ],
        [
         "24",
         "1986-01-01 00:00:00",
         "38337.0",
         "28134.0",
         "9986.0",
         "5541.0",
         "8453.0",
         "6493.0",
         "12127.0",
         "7932.0",
         "9598.0",
         "4413.0"
        ],
        [
         "25",
         "1986-04-01 00:00:00",
         "42814.0",
         "25635.0",
         "11565.0",
         "5058.0",
         "8124.0",
         "5589.0",
         "11753.0",
         "8193.0",
         "12568.0",
         "4536.0"
        ],
        [
         "26",
         "1986-07-01 00:00:00",
         "56140.0",
         "27233.0",
         "15259.0",
         "4529.0",
         "9885.0",
         "5430.0",
         "13188.0",
         "7682.0",
         "14611.0",
         "3960.0"
        ],
        [
         "27",
         "1986-10-01 00:00:00",
         "65504.0",
         "27305.0",
         "19962.0",
         "5888.0",
         "11422.0",
         "5740.0",
         "13216.0",
         "7727.0",
         "17606.0",
         "3788.0"
        ],
        [
         "28",
         "1987-01-01 00:00:00",
         "80046.0",
         "28643.0",
         "19113.0",
         "5227.0",
         "13496.0",
         "7100.0",
         "13899.0",
         "7104.0",
         "17881.0",
         "3898.0"
        ],
        [
         "29",
         "1987-04-01 00:00:00",
         "82314.0",
         "28289.0",
         "22160.0",
         "5643.0",
         "14855.0",
         "5769.0",
         "17124.0",
         "6916.0",
         "16605.0",
         "5076.0"
        ],
        [
         "30",
         "1987-07-01 00:00:00",
         "116485.0",
         "33140.0",
         "29057.0",
         "6594.0",
         "21499.0",
         "6197.0",
         "21690.0",
         "6636.0",
         "23031.0",
         "5420.0"
        ],
        [
         "31",
         "1987-10-01 00:00:00",
         "136863.0",
         "34491.0",
         "37422.0",
         "7861.0",
         "25971.0",
         "6035.0",
         "26954.0",
         "6672.0",
         "32168.0",
         "6066.0"
        ],
        [
         "32",
         "1988-01-01 00:00:00",
         "184.0",
         "35928.0",
         "50.0",
         "6847.0",
         "38.0",
         "7184.0",
         "39.0",
         "6569.0",
         "42.0",
         "5756.0"
        ],
        [
         "33",
         "1988-04-01 00:00:00",
         "251.0",
         "31107.0",
         "65.0",
         "6960.0",
         "41.0",
         "5918.0",
         "72.0",
         "7047.0",
         "51.0",
         "4900.0"
        ],
        [
         "34",
         "1988-07-01 00:00:00",
         "631.0",
         "36587.0",
         "157.0",
         "7675.0",
         "82.0",
         "6791.0",
         "145.0",
         "6670.0",
         "164.0",
         "6071.0"
        ],
        [
         "35",
         "1988-10-01 00:00:00",
         "1570.0",
         "35019.0",
         "450.0",
         "7890.0",
         "167.0",
         "6644.0",
         "328.0",
         "6066.0",
         "432.0",
         "6202.0"
        ],
        [
         "36",
         "1989-01-01 00:00:00",
         "3524.0",
         "34176.0",
         "913.0",
         "7047.0",
         "403.0",
         "6798.0",
         "1097.0",
         "6486.0",
         "953.0",
         "5442.0"
        ],
        [
         "37",
         "1989-04-01 00:00:00",
         "6639.0",
         "30689.0",
         "1670.0",
         "6562.0",
         "984.0",
         "5060.0",
         "2410.0",
         "6975.0",
         "1979.0",
         "5448.0"
        ],
        [
         "38",
         "1989-07-01 00:00:00",
         "15775.0",
         "33892.0",
         "3876.0",
         "5887.0",
         "2248.0",
         "5358.0",
         "4160.0",
         "5989.0",
         "2735.0",
         "5568.0"
        ],
        [
         "39",
         "1989-10-01 00:00:00",
         "35675.0",
         "28326.0",
         "8740.0",
         "5343.0",
         "4129.0",
         "5138.0",
         "8069.0",
         "5151.0",
         "6450.0",
         "4161.0"
        ],
        [
         "40",
         "1990-01-01 00:00:00",
         "75.0",
         "24920.0",
         "14.0",
         "4496.0",
         "12.0",
         "4239.0",
         "13.0",
         "7194.0",
         "13.0",
         "3911.0"
        ],
        [
         "41",
         "1990-04-01 00:00:00",
         "169.0",
         "23229.0",
         "39.0",
         "4966.0",
         "22.0",
         "4093.0",
         "36.0",
         "7633.0",
         "34.0",
         "4369.0"
        ],
        [
         "42",
         "1990-07-01 00:00:00",
         "1331.0",
         "27771.0",
         "265.0",
         "5503.0",
         "131.0",
         "4292.0",
         "313.0",
         "7473.0",
         "286.0",
         "3731.0"
        ],
        [
         "43",
         "1990-10-01 00:00:00",
         "2505.0",
         "30399.0",
         "485.0",
         "6653.0",
         "233.0",
         "5467.0",
         "496.0",
         "6918.0",
         "420.0",
         "4929.0"
        ],
        [
         "44",
         "1991-01-01 00:00:00",
         "3392.0",
         "28406.0",
         "583.0",
         "6018.0",
         "360.0",
         "5627.0",
         "553.0",
         "6280.0",
         "548.0",
         "5953.0"
        ],
        [
         "45",
         "1991-04-01 00:00:00",
         "4492.0",
         "26296.0",
         "833.0",
         "6184.0",
         "408.0",
         "4386.0",
         "848.0",
         "6166.0",
         "897.0",
         "4742.0"
        ],
        [
         "46",
         "1991-07-01 00:00:00",
         "6014.0",
         "24792.0",
         "1142.0",
         "4641.0",
         "561.0",
         "3117.0",
         "875.0",
         "6726.0",
         "1049.0",
         "4441.0"
        ],
        [
         "47",
         "1991-10-01 00:00:00",
         "6738.0",
         "26241.0",
         "1430.0",
         "4980.0",
         "704.0",
         "3119.0",
         "983.0",
         "6624.0",
         "1368.0",
         "3865.0"
        ],
        [
         "48",
         "1992-01-01 00:00:00",
         "7444.0",
         "25970.0",
         "1387.0",
         "4660.0",
         "667.0",
         "4147.0",
         "993.0",
         "6490.0",
         "1379.0",
         "4549.0"
        ],
        [
         "49",
         "1992-04-01 00:00:00",
         "8097.0",
         "27034.0",
         "1450.0",
         "5383.0",
         "826.0",
         "3784.0",
         "1148.0",
         "7294.0",
         "1461.0",
         "5576.0"
        ]
       ],
       "shape": {
        "columns": 11,
        "rows": 181
       }
      },
      "text/html": [
       "<div>\n",
       "<style scoped>\n",
       "    .dataframe tbody tr th:only-of-type {\n",
       "        vertical-align: middle;\n",
       "    }\n",
       "\n",
       "    .dataframe tbody tr th {\n",
       "        vertical-align: top;\n",
       "    }\n",
       "\n",
       "    .dataframe thead th {\n",
       "        text-align: right;\n",
       "    }\n",
       "</style>\n",
       "<table border=\"1\" class=\"dataframe\">\n",
       "  <thead>\n",
       "    <tr style=\"text-align: right;\">\n",
       "      <th></th>\n",
       "      <th>Fecha</th>\n",
       "      <th>Producto bruto interno por tipo de gasto (millones S/) - Demanda Interna - Consumo Privado</th>\n",
       "      <th>Producto bruto interno por tipo de gasto (millones S/ 2007) - Demanda Interna - Consumo Privado</th>\n",
       "      <th>Producto bruto interno por tipo de gasto (millones S/) - Demanda Interna - Inversión Bruta Interna - Inversión Bruta Fija</th>\n",
       "      <th>Producto bruto interno por tipo de gasto (millones S/ 2007) - Demanda Interna - Inversión Bruta Interna - Inversión Bruta Fija</th>\n",
       "      <th>Producto bruto interno por tipo de gasto (millones S/) - Demanda Interna - Consumo Público</th>\n",
       "      <th>Producto bruto interno por tipo de gasto (millones S/ 2007) - Demanda Interna - Consumo Público</th>\n",
       "      <th>Producto bruto interno por tipo de gasto (millones S/) - Exportaciones</th>\n",
       "      <th>Producto bruto interno por tipo de gasto (millones S/ 2007) - Exportaciones</th>\n",
       "      <th>Producto bruto interno por tipo de gasto (millones S/) - Importaciones</th>\n",
       "      <th>Producto bruto interno por tipo de gasto (millones S/ 2007) - Importaciones</th>\n",
       "    </tr>\n",
       "  </thead>\n",
       "  <tbody>\n",
       "    <tr>\n",
       "      <th>0</th>\n",
       "      <td>1980-01-01</td>\n",
       "      <td>549.0</td>\n",
       "      <td>23549.0</td>\n",
       "      <td>220.0</td>\n",
       "      <td>4943.0</td>\n",
       "      <td>142.0</td>\n",
       "      <td>5084.0</td>\n",
       "      <td>325.0</td>\n",
       "      <td>7368.0</td>\n",
       "      <td>210.0</td>\n",
       "      <td>3647.0</td>\n",
       "    </tr>\n",
       "    <tr>\n",
       "      <th>1</th>\n",
       "      <td>1980-04-01</td>\n",
       "      <td>602.0</td>\n",
       "      <td>22797.0</td>\n",
       "      <td>285.0</td>\n",
       "      <td>5599.0</td>\n",
       "      <td>155.0</td>\n",
       "      <td>4612.0</td>\n",
       "      <td>301.0</td>\n",
       "      <td>7878.0</td>\n",
       "      <td>280.0</td>\n",
       "      <td>4136.0</td>\n",
       "    </tr>\n",
       "    <tr>\n",
       "      <th>2</th>\n",
       "      <td>1980-07-01</td>\n",
       "      <td>767.0</td>\n",
       "      <td>25670.0</td>\n",
       "      <td>309.0</td>\n",
       "      <td>6444.0</td>\n",
       "      <td>186.0</td>\n",
       "      <td>4863.0</td>\n",
       "      <td>337.0</td>\n",
       "      <td>8322.0</td>\n",
       "      <td>296.0</td>\n",
       "      <td>4738.0</td>\n",
       "    </tr>\n",
       "    <tr>\n",
       "      <th>3</th>\n",
       "      <td>1980-10-01</td>\n",
       "      <td>916.0</td>\n",
       "      <td>24810.0</td>\n",
       "      <td>455.0</td>\n",
       "      <td>6622.0</td>\n",
       "      <td>200.0</td>\n",
       "      <td>4584.0</td>\n",
       "      <td>399.0</td>\n",
       "      <td>8894.0</td>\n",
       "      <td>390.0</td>\n",
       "      <td>4756.0</td>\n",
       "    </tr>\n",
       "    <tr>\n",
       "      <th>4</th>\n",
       "      <td>1981-01-01</td>\n",
       "      <td>1101.0</td>\n",
       "      <td>24239.0</td>\n",
       "      <td>452.0</td>\n",
       "      <td>6689.0</td>\n",
       "      <td>256.0</td>\n",
       "      <td>6646.0</td>\n",
       "      <td>384.0</td>\n",
       "      <td>7886.0</td>\n",
       "      <td>421.0</td>\n",
       "      <td>5367.0</td>\n",
       "    </tr>\n",
       "    <tr>\n",
       "      <th>...</th>\n",
       "      <td>...</td>\n",
       "      <td>...</td>\n",
       "      <td>...</td>\n",
       "      <td>...</td>\n",
       "      <td>...</td>\n",
       "      <td>...</td>\n",
       "      <td>...</td>\n",
       "      <td>...</td>\n",
       "      <td>...</td>\n",
       "      <td>...</td>\n",
       "      <td>...</td>\n",
       "    </tr>\n",
       "    <tr>\n",
       "      <th>176</th>\n",
       "      <td>2024-01-01</td>\n",
       "      <td>162213.0</td>\n",
       "      <td>90625.0</td>\n",
       "      <td>51976.0</td>\n",
       "      <td>29063.0</td>\n",
       "      <td>33258.0</td>\n",
       "      <td>18948.0</td>\n",
       "      <td>68515.0</td>\n",
       "      <td>33859.0</td>\n",
       "      <td>58054.0</td>\n",
       "      <td>34774.0</td>\n",
       "    </tr>\n",
       "    <tr>\n",
       "      <th>177</th>\n",
       "      <td>2024-04-01</td>\n",
       "      <td>177005.0</td>\n",
       "      <td>97029.0</td>\n",
       "      <td>57447.0</td>\n",
       "      <td>32943.0</td>\n",
       "      <td>34507.0</td>\n",
       "      <td>18929.0</td>\n",
       "      <td>72459.0</td>\n",
       "      <td>35364.0</td>\n",
       "      <td>59619.0</td>\n",
       "      <td>36264.0</td>\n",
       "    </tr>\n",
       "    <tr>\n",
       "      <th>178</th>\n",
       "      <td>2024-07-01</td>\n",
       "      <td>172676.0</td>\n",
       "      <td>93214.0</td>\n",
       "      <td>63552.0</td>\n",
       "      <td>35022.0</td>\n",
       "      <td>36170.0</td>\n",
       "      <td>19769.0</td>\n",
       "      <td>84744.0</td>\n",
       "      <td>35912.0</td>\n",
       "      <td>65632.0</td>\n",
       "      <td>39169.0</td>\n",
       "    </tr>\n",
       "    <tr>\n",
       "      <th>179</th>\n",
       "      <td>2024-10-01</td>\n",
       "      <td>171517.0</td>\n",
       "      <td>92166.0</td>\n",
       "      <td>71619.0</td>\n",
       "      <td>39859.0</td>\n",
       "      <td>42903.0</td>\n",
       "      <td>23785.0</td>\n",
       "      <td>86764.0</td>\n",
       "      <td>39130.0</td>\n",
       "      <td>69067.0</td>\n",
       "      <td>40127.0</td>\n",
       "    </tr>\n",
       "    <tr>\n",
       "      <th>180</th>\n",
       "      <td>2025-01-01</td>\n",
       "      <td>170927.0</td>\n",
       "      <td>91701.0</td>\n",
       "      <td>56713.0</td>\n",
       "      <td>30947.0</td>\n",
       "      <td>35963.0</td>\n",
       "      <td>19550.0</td>\n",
       "      <td>83269.0</td>\n",
       "      <td>35652.0</td>\n",
       "      <td>65976.0</td>\n",
       "      <td>37291.0</td>\n",
       "    </tr>\n",
       "  </tbody>\n",
       "</table>\n",
       "<p>181 rows × 11 columns</p>\n",
       "</div>"
      ],
      "text/plain": [
       "         Fecha  \\\n",
       "0   1980-01-01   \n",
       "1   1980-04-01   \n",
       "2   1980-07-01   \n",
       "3   1980-10-01   \n",
       "4   1981-01-01   \n",
       "..         ...   \n",
       "176 2024-01-01   \n",
       "177 2024-04-01   \n",
       "178 2024-07-01   \n",
       "179 2024-10-01   \n",
       "180 2025-01-01   \n",
       "\n",
       "     Producto bruto interno por tipo de gasto (millones S/) - Demanda Interna - Consumo Privado  \\\n",
       "0                                                549.0                                            \n",
       "1                                                602.0                                            \n",
       "2                                                767.0                                            \n",
       "3                                                916.0                                            \n",
       "4                                               1101.0                                            \n",
       "..                                                 ...                                            \n",
       "176                                           162213.0                                            \n",
       "177                                           177005.0                                            \n",
       "178                                           172676.0                                            \n",
       "179                                           171517.0                                            \n",
       "180                                           170927.0                                            \n",
       "\n",
       "     Producto bruto interno por tipo de gasto (millones S/ 2007) - Demanda Interna - Consumo Privado  \\\n",
       "0                                              23549.0                                                 \n",
       "1                                              22797.0                                                 \n",
       "2                                              25670.0                                                 \n",
       "3                                              24810.0                                                 \n",
       "4                                              24239.0                                                 \n",
       "..                                                 ...                                                 \n",
       "176                                            90625.0                                                 \n",
       "177                                            97029.0                                                 \n",
       "178                                            93214.0                                                 \n",
       "179                                            92166.0                                                 \n",
       "180                                            91701.0                                                 \n",
       "\n",
       "     Producto bruto interno por tipo de gasto (millones S/) - Demanda Interna - Inversión Bruta Interna - Inversión Bruta Fija  \\\n",
       "0                                                220.0                                                                           \n",
       "1                                                285.0                                                                           \n",
       "2                                                309.0                                                                           \n",
       "3                                                455.0                                                                           \n",
       "4                                                452.0                                                                           \n",
       "..                                                 ...                                                                           \n",
       "176                                            51976.0                                                                           \n",
       "177                                            57447.0                                                                           \n",
       "178                                            63552.0                                                                           \n",
       "179                                            71619.0                                                                           \n",
       "180                                            56713.0                                                                           \n",
       "\n",
       "     Producto bruto interno por tipo de gasto (millones S/ 2007) - Demanda Interna - Inversión Bruta Interna - Inversión Bruta Fija  \\\n",
       "0                                               4943.0                                                                                \n",
       "1                                               5599.0                                                                                \n",
       "2                                               6444.0                                                                                \n",
       "3                                               6622.0                                                                                \n",
       "4                                               6689.0                                                                                \n",
       "..                                                 ...                                                                                \n",
       "176                                            29063.0                                                                                \n",
       "177                                            32943.0                                                                                \n",
       "178                                            35022.0                                                                                \n",
       "179                                            39859.0                                                                                \n",
       "180                                            30947.0                                                                                \n",
       "\n",
       "     Producto bruto interno por tipo de gasto (millones S/) - Demanda Interna - Consumo Público  \\\n",
       "0                                                142.0                                            \n",
       "1                                                155.0                                            \n",
       "2                                                186.0                                            \n",
       "3                                                200.0                                            \n",
       "4                                                256.0                                            \n",
       "..                                                 ...                                            \n",
       "176                                            33258.0                                            \n",
       "177                                            34507.0                                            \n",
       "178                                            36170.0                                            \n",
       "179                                            42903.0                                            \n",
       "180                                            35963.0                                            \n",
       "\n",
       "     Producto bruto interno por tipo de gasto (millones S/ 2007) - Demanda Interna - Consumo Público  \\\n",
       "0                                               5084.0                                                 \n",
       "1                                               4612.0                                                 \n",
       "2                                               4863.0                                                 \n",
       "3                                               4584.0                                                 \n",
       "4                                               6646.0                                                 \n",
       "..                                                 ...                                                 \n",
       "176                                            18948.0                                                 \n",
       "177                                            18929.0                                                 \n",
       "178                                            19769.0                                                 \n",
       "179                                            23785.0                                                 \n",
       "180                                            19550.0                                                 \n",
       "\n",
       "     Producto bruto interno por tipo de gasto (millones S/) - Exportaciones  \\\n",
       "0                                                325.0                        \n",
       "1                                                301.0                        \n",
       "2                                                337.0                        \n",
       "3                                                399.0                        \n",
       "4                                                384.0                        \n",
       "..                                                 ...                        \n",
       "176                                            68515.0                        \n",
       "177                                            72459.0                        \n",
       "178                                            84744.0                        \n",
       "179                                            86764.0                        \n",
       "180                                            83269.0                        \n",
       "\n",
       "     Producto bruto interno por tipo de gasto (millones S/ 2007) - Exportaciones  \\\n",
       "0                                               7368.0                             \n",
       "1                                               7878.0                             \n",
       "2                                               8322.0                             \n",
       "3                                               8894.0                             \n",
       "4                                               7886.0                             \n",
       "..                                                 ...                             \n",
       "176                                            33859.0                             \n",
       "177                                            35364.0                             \n",
       "178                                            35912.0                             \n",
       "179                                            39130.0                             \n",
       "180                                            35652.0                             \n",
       "\n",
       "     Producto bruto interno por tipo de gasto (millones S/) - Importaciones  \\\n",
       "0                                                210.0                        \n",
       "1                                                280.0                        \n",
       "2                                                296.0                        \n",
       "3                                                390.0                        \n",
       "4                                                421.0                        \n",
       "..                                                 ...                        \n",
       "176                                            58054.0                        \n",
       "177                                            59619.0                        \n",
       "178                                            65632.0                        \n",
       "179                                            69067.0                        \n",
       "180                                            65976.0                        \n",
       "\n",
       "     Producto bruto interno por tipo de gasto (millones S/ 2007) - Importaciones  \n",
       "0                                               3647.0                            \n",
       "1                                               4136.0                            \n",
       "2                                               4738.0                            \n",
       "3                                               4756.0                            \n",
       "4                                               5367.0                            \n",
       "..                                                 ...                            \n",
       "176                                            34774.0                            \n",
       "177                                            36264.0                            \n",
       "178                                            39169.0                            \n",
       "179                                            40127.0                            \n",
       "180                                            37291.0                            \n",
       "\n",
       "[181 rows x 11 columns]"
      ]
     },
     "execution_count": 12,
     "metadata": {},
     "output_type": "execute_result"
    }
   ],
   "source": [
    "tabla_trimestral_indicadores"
   ]
  },
  {
   "cell_type": "code",
   "execution_count": 13,
   "id": "03a74a95",
   "metadata": {},
   "outputs": [],
   "source": [
    "tabla_trimestral_indicadores.to_csv('G:/Mi unidad/VSC/indicadores_economicos/data/tabla_trimestral_indicadores.csv', index=False)"
   ]
  },
  {
   "cell_type": "code",
   "execution_count": 14,
   "id": "0c6276a7",
   "metadata": {},
   "outputs": [],
   "source": [
    "inflacion_mensual = pd.read_html('https://estadisticas.bcrp.gob.pe/estadisticas/series/mensuales/resultados/PN38705PM/html', header=0)[1]\n",
    "inflancion_sin_alimentos = pd.read_html('https://estadisticas.bcrp.gob.pe/estadisticas/series/mensuales/resultados/PN38707PM/html', header=0)[1]\n",
    "inflacion_alimentos_energia = pd.read_html('https://estadisticas.bcrp.gob.pe/estadisticas/series/mensuales/resultados/PN39521PM/html', header=0)[1]\n",
    "inflacion_12_meses = pd.read_html('https://estadisticas.bcrp.gob.pe/estadisticas/series/mensuales/resultados/PN01272PM/html', header=0)[1]\n"
   ]
  },
  {
   "cell_type": "code",
   "execution_count": 15,
   "id": "43ce3240",
   "metadata": {},
   "outputs": [],
   "source": [
    "inflacion_alimentos_energia['Fecha'] = inflacion_alimentos_energia['Fecha'].apply(convertir_mes_fecha)\n",
    "inflacion_mensual['Fecha'] = inflacion_mensual['Fecha'].apply(convertir_mes_fecha)\n",
    "inflancion_sin_alimentos['Fecha'] = inflancion_sin_alimentos['Fecha'].apply(convertir_mes_fecha)\n",
    "inflacion_12_meses['Fecha'] = inflacion_12_meses['Fecha'].apply(convertir_mes_fecha)"
   ]
  },
  {
   "cell_type": "code",
   "execution_count": 16,
   "id": "a5ce767f",
   "metadata": {},
   "outputs": [],
   "source": [
    "merge1 = pd.merge(inflacion_alimentos_energia, inflacion_mensual, on='Fecha',how = 'inner')\n",
    "merge2 = pd.merge(merge1, inflancion_sin_alimentos, on='Fecha', how='inner')\n",
    "tabla_inflacion = pd.merge(merge2, inflacion_12_meses, on='Fecha', how='inner')"
   ]
  },
  {
   "cell_type": "code",
   "execution_count": 25,
   "id": "1cc29214",
   "metadata": {},
   "outputs": [
    {
     "data": {
      "application/vnd.microsoft.datawrangler.viewer.v0+json": {
       "columns": [
        {
         "name": "index",
         "rawType": "int64",
         "type": "integer"
        },
        {
         "name": "Fecha",
         "rawType": "datetime64[ns]",
         "type": "datetime"
        },
        {
         "name": "Índice de precios Lima Metropolitana (índice Dic.2021 = 100) - Índice de Precios al Consumidor (IPC)",
         "rawType": "float64",
         "type": "float"
        }
       ],
       "ref": "71302e8c-9b3e-4ea8-87fd-ebcf47b53a23",
       "rows": [
        [
         "0",
         "1991-01-01 00:00:00",
         "7.39"
        ],
        [
         "1",
         "1991-02-01 00:00:00",
         "8.09"
        ],
        [
         "2",
         "1991-03-01 00:00:00",
         "8.71"
        ],
        [
         "3",
         "1991-04-01 00:00:00",
         "9.22"
        ],
        [
         "4",
         "1991-05-01 00:00:00",
         "9.93"
        ],
        [
         "5",
         "1991-06-01 00:00:00",
         "10.84"
        ],
        [
         "6",
         "1991-07-01 00:00:00",
         "11.83"
        ],
        [
         "7",
         "1991-08-01 00:00:00",
         "12.68"
        ],
        [
         "8",
         "1991-09-01 00:00:00",
         "13.39"
        ],
        [
         "9",
         "1991-10-01 00:00:00",
         "13.92"
        ],
        [
         "10",
         "1991-11-01 00:00:00",
         "14.47"
        ],
        [
         "11",
         "1991-12-01 00:00:00",
         "15.01"
        ],
        [
         "12",
         "1992-01-01 00:00:00",
         "15.54"
        ],
        [
         "13",
         "1992-02-01 00:00:00",
         "16.28"
        ],
        [
         "14",
         "1992-03-01 00:00:00",
         "17.49"
        ],
        [
         "15",
         "1992-04-01 00:00:00",
         "18.04"
        ],
        [
         "16",
         "1992-05-01 00:00:00",
         "18.66"
        ],
        [
         "17",
         "1992-06-01 00:00:00",
         "19.33"
        ],
        [
         "18",
         "1992-07-01 00:00:00",
         "20.01"
        ],
        [
         "19",
         "1992-08-01 00:00:00",
         "20.57"
        ],
        [
         "20",
         "1992-09-01 00:00:00",
         "21.11"
        ],
        [
         "21",
         "1992-10-01 00:00:00",
         "21.88"
        ],
        [
         "22",
         "1992-11-01 00:00:00",
         "22.65"
        ],
        [
         "23",
         "1992-12-01 00:00:00",
         "23.53"
        ],
        [
         "24",
         "1993-01-01 00:00:00",
         "24.67"
        ],
        [
         "25",
         "1993-02-01 00:00:00",
         "25.39"
        ],
        [
         "26",
         "1993-03-01 00:00:00",
         "26.46"
        ],
        [
         "27",
         "1993-04-01 00:00:00",
         "27.64"
        ],
        [
         "28",
         "1993-05-01 00:00:00",
         "28.47"
        ],
        [
         "29",
         "1993-06-01 00:00:00",
         "28.99"
        ],
        [
         "30",
         "1993-07-01 00:00:00",
         "29.79"
        ],
        [
         "31",
         "1993-08-01 00:00:00",
         "30.54"
        ],
        [
         "32",
         "1993-09-01 00:00:00",
         "31.04"
        ],
        [
         "33",
         "1993-10-01 00:00:00",
         "31.5"
        ],
        [
         "34",
         "1993-11-01 00:00:00",
         "32.01"
        ],
        [
         "35",
         "1993-12-01 00:00:00",
         "32.81"
        ],
        [
         "36",
         "1994-01-01 00:00:00",
         "33.42"
        ],
        [
         "37",
         "1994-02-01 00:00:00",
         "34.02"
        ],
        [
         "38",
         "1994-03-01 00:00:00",
         "34.82"
        ],
        [
         "39",
         "1994-04-01 00:00:00",
         "35.35"
        ],
        [
         "40",
         "1994-05-01 00:00:00",
         "35.61"
        ],
        [
         "41",
         "1994-06-01 00:00:00",
         "36.01"
        ],
        [
         "42",
         "1994-07-01 00:00:00",
         "36.33"
        ],
        [
         "43",
         "1994-08-01 00:00:00",
         "36.89"
        ],
        [
         "44",
         "1994-09-01 00:00:00",
         "37.08"
        ],
        [
         "45",
         "1994-10-01 00:00:00",
         "37.19"
        ],
        [
         "46",
         "1994-11-01 00:00:00",
         "37.64"
        ],
        [
         "47",
         "1994-12-01 00:00:00",
         "37.86"
        ],
        [
         "48",
         "1995-01-01 00:00:00",
         "38.0"
        ],
        [
         "49",
         "1995-02-01 00:00:00",
         "38.43"
        ]
       ],
       "shape": {
        "columns": 2,
        "rows": 413
       }
      },
      "text/html": [
       "<div>\n",
       "<style scoped>\n",
       "    .dataframe tbody tr th:only-of-type {\n",
       "        vertical-align: middle;\n",
       "    }\n",
       "\n",
       "    .dataframe tbody tr th {\n",
       "        vertical-align: top;\n",
       "    }\n",
       "\n",
       "    .dataframe thead th {\n",
       "        text-align: right;\n",
       "    }\n",
       "</style>\n",
       "<table border=\"1\" class=\"dataframe\">\n",
       "  <thead>\n",
       "    <tr style=\"text-align: right;\">\n",
       "      <th></th>\n",
       "      <th>Fecha</th>\n",
       "      <th>Índice de precios Lima Metropolitana (índice Dic.2021 = 100) - Índice de Precios al Consumidor (IPC)</th>\n",
       "    </tr>\n",
       "  </thead>\n",
       "  <tbody>\n",
       "    <tr>\n",
       "      <th>0</th>\n",
       "      <td>1991-01-01</td>\n",
       "      <td>7.39</td>\n",
       "    </tr>\n",
       "    <tr>\n",
       "      <th>1</th>\n",
       "      <td>1991-02-01</td>\n",
       "      <td>8.09</td>\n",
       "    </tr>\n",
       "    <tr>\n",
       "      <th>2</th>\n",
       "      <td>1991-03-01</td>\n",
       "      <td>8.71</td>\n",
       "    </tr>\n",
       "    <tr>\n",
       "      <th>3</th>\n",
       "      <td>1991-04-01</td>\n",
       "      <td>9.22</td>\n",
       "    </tr>\n",
       "    <tr>\n",
       "      <th>4</th>\n",
       "      <td>1991-05-01</td>\n",
       "      <td>9.93</td>\n",
       "    </tr>\n",
       "    <tr>\n",
       "      <th>...</th>\n",
       "      <td>...</td>\n",
       "      <td>...</td>\n",
       "    </tr>\n",
       "    <tr>\n",
       "      <th>408</th>\n",
       "      <td>2025-01-01</td>\n",
       "      <td>114.07</td>\n",
       "    </tr>\n",
       "    <tr>\n",
       "      <th>409</th>\n",
       "      <td>2025-02-01</td>\n",
       "      <td>114.28</td>\n",
       "    </tr>\n",
       "    <tr>\n",
       "      <th>410</th>\n",
       "      <td>2025-03-01</td>\n",
       "      <td>115.21</td>\n",
       "    </tr>\n",
       "    <tr>\n",
       "      <th>411</th>\n",
       "      <td>2025-04-01</td>\n",
       "      <td>115.57</td>\n",
       "    </tr>\n",
       "    <tr>\n",
       "      <th>412</th>\n",
       "      <td>2025-05-01</td>\n",
       "      <td>115.51</td>\n",
       "    </tr>\n",
       "  </tbody>\n",
       "</table>\n",
       "<p>413 rows × 2 columns</p>\n",
       "</div>"
      ],
      "text/plain": [
       "         Fecha  \\\n",
       "0   1991-01-01   \n",
       "1   1991-02-01   \n",
       "2   1991-03-01   \n",
       "3   1991-04-01   \n",
       "4   1991-05-01   \n",
       "..         ...   \n",
       "408 2025-01-01   \n",
       "409 2025-02-01   \n",
       "410 2025-03-01   \n",
       "411 2025-04-01   \n",
       "412 2025-05-01   \n",
       "\n",
       "     Índice de precios Lima Metropolitana (índice Dic.2021 = 100) - Índice de Precios al Consumidor (IPC)  \n",
       "0                                                 7.39                                                     \n",
       "1                                                 8.09                                                     \n",
       "2                                                 8.71                                                     \n",
       "3                                                 9.22                                                     \n",
       "4                                                 9.93                                                     \n",
       "..                                                 ...                                                     \n",
       "408                                             114.07                                                     \n",
       "409                                             114.28                                                     \n",
       "410                                             115.21                                                     \n",
       "411                                             115.57                                                     \n",
       "412                                             115.51                                                     \n",
       "\n",
       "[413 rows x 2 columns]"
      ]
     },
     "execution_count": 25,
     "metadata": {},
     "output_type": "execute_result"
    }
   ],
   "source": [
    "inflacion_mensual"
   ]
  },
  {
   "cell_type": "code",
   "execution_count": 24,
   "id": "ea4600a4",
   "metadata": {},
   "outputs": [
    {
     "data": {
      "application/vnd.microsoft.datawrangler.viewer.v0+json": {
       "columns": [
        {
         "name": "index",
         "rawType": "int64",
         "type": "integer"
        },
        {
         "name": "Fecha",
         "rawType": "datetime64[ns]",
         "type": "datetime"
        },
        {
         "name": "Índice de precios Lima Metropolitana (var% acumulada) - IPC",
         "rawType": "float64",
         "type": "float"
        }
       ],
       "ref": "aba01c86-214f-4c7e-b994-bece0c2e436b",
       "rows": [
        [
         "0",
         "1950-01-01 00:00:00",
         "1.42"
        ],
        [
         "1",
         "1950-02-01 00:00:00",
         "0.18"
        ],
        [
         "2",
         "1950-03-01 00:00:00",
         "0.31"
        ],
        [
         "3",
         "1950-04-01 00:00:00",
         "0.0"
        ],
        [
         "4",
         "1950-05-01 00:00:00",
         "1.36"
        ],
        [
         "5",
         "1950-06-01 00:00:00",
         "1.05"
        ],
        [
         "6",
         "1950-07-01 00:00:00",
         "1.35"
        ],
        [
         "7",
         "1950-08-01 00:00:00",
         "0.27"
        ],
        [
         "8",
         "1950-09-01 00:00:00",
         "0.53"
        ],
        [
         "9",
         "1950-10-01 00:00:00",
         "5.19"
        ],
        [
         "10",
         "1950-11-01 00:00:00",
         "6.49"
        ],
        [
         "11",
         "1950-12-01 00:00:00",
         "7.6"
        ],
        [
         "12",
         "1951-01-01 00:00:00",
         "2.89"
        ],
        [
         "13",
         "1951-02-01 00:00:00",
         "2.12"
        ],
        [
         "14",
         "1951-03-01 00:00:00",
         "2.41"
        ],
        [
         "15",
         "1951-04-01 00:00:00",
         "2.87"
        ],
        [
         "16",
         "1951-05-01 00:00:00",
         "3.03"
        ],
        [
         "17",
         "1951-06-01 00:00:00",
         "3.96"
        ],
        [
         "18",
         "1951-07-01 00:00:00",
         "4.12"
        ],
        [
         "19",
         "1951-08-01 00:00:00",
         "4.91"
        ],
        [
         "20",
         "1951-09-01 00:00:00",
         "5.58"
        ],
        [
         "21",
         "1951-10-01 00:00:00",
         "6.0"
        ],
        [
         "22",
         "1951-11-01 00:00:00",
         "6.84"
        ],
        [
         "23",
         "1951-12-01 00:00:00",
         "7.87"
        ],
        [
         "24",
         "1952-01-01 00:00:00",
         "0.28"
        ],
        [
         "25",
         "1952-02-01 00:00:00",
         "0.56"
        ],
        [
         "26",
         "1952-03-01 00:00:00",
         "1.31"
        ],
        [
         "27",
         "1952-04-01 00:00:00",
         "1.64"
        ],
        [
         "28",
         "1952-05-01 00:00:00",
         "2.32"
        ],
        [
         "29",
         "1952-06-01 00:00:00",
         "2.83"
        ],
        [
         "30",
         "1952-07-01 00:00:00",
         "3.75"
        ],
        [
         "31",
         "1952-08-01 00:00:00",
         "4.85"
        ],
        [
         "32",
         "1952-09-01 00:00:00",
         "5.41"
        ],
        [
         "33",
         "1952-10-01 00:00:00",
         "5.5"
        ],
        [
         "34",
         "1952-11-01 00:00:00",
         "6.34"
        ],
        [
         "35",
         "1952-12-01 00:00:00",
         "6.75"
        ],
        [
         "36",
         "1953-01-01 00:00:00",
         "0.32"
        ],
        [
         "37",
         "1953-02-01 00:00:00",
         "0.47"
        ],
        [
         "38",
         "1953-03-01 00:00:00",
         "0.72"
        ],
        [
         "39",
         "1953-04-01 00:00:00",
         "0.85"
        ],
        [
         "40",
         "1953-05-01 00:00:00",
         "8.51"
        ],
        [
         "41",
         "1953-06-01 00:00:00",
         "7.93"
        ],
        [
         "42",
         "1953-07-01 00:00:00",
         "7.95"
        ],
        [
         "43",
         "1953-08-01 00:00:00",
         "7.62"
        ],
        [
         "44",
         "1953-09-01 00:00:00",
         "8.35"
        ],
        [
         "45",
         "1953-10-01 00:00:00",
         "8.69"
        ],
        [
         "46",
         "1953-11-01 00:00:00",
         "8.65"
        ],
        [
         "47",
         "1953-12-01 00:00:00",
         "8.61"
        ],
        [
         "48",
         "1954-01-01 00:00:00",
         "0.52"
        ],
        [
         "49",
         "1954-02-01 00:00:00",
         "0.98"
        ]
       ],
       "shape": {
        "columns": 2,
        "rows": 905
       }
      },
      "text/html": [
       "<div>\n",
       "<style scoped>\n",
       "    .dataframe tbody tr th:only-of-type {\n",
       "        vertical-align: middle;\n",
       "    }\n",
       "\n",
       "    .dataframe tbody tr th {\n",
       "        vertical-align: top;\n",
       "    }\n",
       "\n",
       "    .dataframe thead th {\n",
       "        text-align: right;\n",
       "    }\n",
       "</style>\n",
       "<table border=\"1\" class=\"dataframe\">\n",
       "  <thead>\n",
       "    <tr style=\"text-align: right;\">\n",
       "      <th></th>\n",
       "      <th>Fecha</th>\n",
       "      <th>Índice de precios Lima Metropolitana (var% acumulada) - IPC</th>\n",
       "    </tr>\n",
       "  </thead>\n",
       "  <tbody>\n",
       "    <tr>\n",
       "      <th>0</th>\n",
       "      <td>1950-01-01</td>\n",
       "      <td>1.42</td>\n",
       "    </tr>\n",
       "    <tr>\n",
       "      <th>1</th>\n",
       "      <td>1950-02-01</td>\n",
       "      <td>0.18</td>\n",
       "    </tr>\n",
       "    <tr>\n",
       "      <th>2</th>\n",
       "      <td>1950-03-01</td>\n",
       "      <td>0.31</td>\n",
       "    </tr>\n",
       "    <tr>\n",
       "      <th>3</th>\n",
       "      <td>1950-04-01</td>\n",
       "      <td>0.00</td>\n",
       "    </tr>\n",
       "    <tr>\n",
       "      <th>4</th>\n",
       "      <td>1950-05-01</td>\n",
       "      <td>1.36</td>\n",
       "    </tr>\n",
       "    <tr>\n",
       "      <th>...</th>\n",
       "      <td>...</td>\n",
       "      <td>...</td>\n",
       "    </tr>\n",
       "    <tr>\n",
       "      <th>900</th>\n",
       "      <td>2025-01-01</td>\n",
       "      <td>-0.09</td>\n",
       "    </tr>\n",
       "    <tr>\n",
       "      <th>901</th>\n",
       "      <td>2025-02-01</td>\n",
       "      <td>0.09</td>\n",
       "    </tr>\n",
       "    <tr>\n",
       "      <th>902</th>\n",
       "      <td>2025-03-01</td>\n",
       "      <td>0.91</td>\n",
       "    </tr>\n",
       "    <tr>\n",
       "      <th>903</th>\n",
       "      <td>2025-04-01</td>\n",
       "      <td>1.23</td>\n",
       "    </tr>\n",
       "    <tr>\n",
       "      <th>904</th>\n",
       "      <td>2025-05-01</td>\n",
       "      <td>1.17</td>\n",
       "    </tr>\n",
       "  </tbody>\n",
       "</table>\n",
       "<p>905 rows × 2 columns</p>\n",
       "</div>"
      ],
      "text/plain": [
       "         Fecha  Índice de precios Lima Metropolitana (var% acumulada) - IPC\n",
       "0   1950-01-01                                               1.42          \n",
       "1   1950-02-01                                               0.18          \n",
       "2   1950-03-01                                               0.31          \n",
       "3   1950-04-01                                               0.00          \n",
       "4   1950-05-01                                               1.36          \n",
       "..         ...                                                ...          \n",
       "900 2025-01-01                                              -0.09          \n",
       "901 2025-02-01                                               0.09          \n",
       "902 2025-03-01                                               0.91          \n",
       "903 2025-04-01                                               1.23          \n",
       "904 2025-05-01                                               1.17          \n",
       "\n",
       "[905 rows x 2 columns]"
      ]
     },
     "execution_count": 24,
     "metadata": {},
     "output_type": "execute_result"
    }
   ],
   "source": [
    "inflacion_12_meses"
   ]
  },
  {
   "cell_type": "code",
   "execution_count": 17,
   "id": "2bfb514d",
   "metadata": {},
   "outputs": [],
   "source": [
    "# tabla_inflacion.to_csv('G:/Mi unidad/VSC/indicadores_economicos/data/tabla_inflacion.csv', index=False)"
   ]
  },
  {
   "cell_type": "code",
   "execution_count": 18,
   "id": "eeb1fbe2",
   "metadata": {},
   "outputs": [
    {
     "data": {
      "application/vnd.microsoft.datawrangler.viewer.v0+json": {
       "columns": [
        {
         "name": "index",
         "rawType": "int64",
         "type": "integer"
        },
        {
         "name": "Fecha",
         "rawType": "datetime64[ns]",
         "type": "datetime"
        }
       ],
       "ref": "77ce446e-f631-4f94-b2c1-bbcb89cc8355",
       "rows": [
        [
         "0",
         "2002-02-01 00:00:00"
        ],
        [
         "1",
         "2002-02-04 00:00:00"
        ],
        [
         "2",
         "2002-02-05 00:00:00"
        ],
        [
         "3",
         "2002-02-06 00:00:00"
        ],
        [
         "4",
         "2002-02-07 00:00:00"
        ],
        [
         "5",
         "2002-02-08 00:00:00"
        ],
        [
         "6",
         "2002-02-11 00:00:00"
        ],
        [
         "7",
         "2002-02-12 00:00:00"
        ],
        [
         "8",
         "2002-02-13 00:00:00"
        ],
        [
         "9",
         "2002-02-14 00:00:00"
        ],
        [
         "10",
         "2002-02-15 00:00:00"
        ],
        [
         "11",
         "2002-02-18 00:00:00"
        ],
        [
         "12",
         "2002-02-19 00:00:00"
        ],
        [
         "13",
         "2002-02-20 00:00:00"
        ],
        [
         "14",
         "2002-02-21 00:00:00"
        ],
        [
         "15",
         "2002-02-22 00:00:00"
        ],
        [
         "16",
         "2002-02-25 00:00:00"
        ],
        [
         "17",
         "2002-02-26 00:00:00"
        ],
        [
         "18",
         "2002-02-27 00:00:00"
        ],
        [
         "19",
         "2002-02-28 00:00:00"
        ],
        [
         "20",
         "2002-03-01 00:00:00"
        ],
        [
         "21",
         "2002-03-04 00:00:00"
        ],
        [
         "22",
         "2002-03-05 00:00:00"
        ],
        [
         "23",
         "2002-03-06 00:00:00"
        ],
        [
         "24",
         "2002-03-07 00:00:00"
        ],
        [
         "25",
         "2002-03-08 00:00:00"
        ],
        [
         "26",
         "2002-03-11 00:00:00"
        ],
        [
         "27",
         "2002-03-12 00:00:00"
        ],
        [
         "28",
         "2002-03-13 00:00:00"
        ],
        [
         "29",
         "2002-03-14 00:00:00"
        ],
        [
         "30",
         "2002-03-15 00:00:00"
        ],
        [
         "31",
         "2002-03-18 00:00:00"
        ],
        [
         "32",
         "2002-03-19 00:00:00"
        ],
        [
         "33",
         "2002-03-20 00:00:00"
        ],
        [
         "34",
         "2002-03-21 00:00:00"
        ],
        [
         "35",
         "2002-03-22 00:00:00"
        ],
        [
         "36",
         "2002-03-25 00:00:00"
        ],
        [
         "37",
         "2002-03-26 00:00:00"
        ],
        [
         "38",
         "2002-03-27 00:00:00"
        ],
        [
         "39",
         "2002-03-28 00:00:00"
        ],
        [
         "40",
         "2002-03-29 00:00:00"
        ],
        [
         "41",
         "2002-04-01 00:00:00"
        ],
        [
         "42",
         "2002-04-02 00:00:00"
        ],
        [
         "43",
         "2002-04-03 00:00:00"
        ],
        [
         "44",
         "2002-04-04 00:00:00"
        ],
        [
         "45",
         "2002-04-05 00:00:00"
        ],
        [
         "46",
         "2002-04-08 00:00:00"
        ],
        [
         "47",
         "2002-04-09 00:00:00"
        ],
        [
         "48",
         "2002-04-10 00:00:00"
        ],
        [
         "49",
         "2002-04-11 00:00:00"
        ]
       ],
       "shape": {
        "columns": 1,
        "rows": 6108
       }
      },
      "text/plain": [
       "0      2002-02-01\n",
       "1      2002-02-04\n",
       "2      2002-02-05\n",
       "3      2002-02-06\n",
       "4      2002-02-07\n",
       "          ...    \n",
       "6103   2025-06-25\n",
       "6104   2025-06-26\n",
       "6105   2025-06-27\n",
       "6106   2025-06-30\n",
       "6107   2025-07-01\n",
       "Name: Fecha, Length: 6108, dtype: datetime64[ns]"
      ]
     },
     "execution_count": 18,
     "metadata": {},
     "output_type": "execute_result"
    }
   ],
   "source": [
    "\n",
    "tipo_cambio_compra = pd.read_html('https://estadisticas.bcrp.gob.pe/estadisticas/series/diarias/resultados/PD04637PD/html', header=0)[1]\n",
    "tipo_cambio_venta = pd.read_html('https://estadisticas.bcrp.gob.pe/estadisticas/series/diarias/resultados/PD04638PD/html', header=0)[1]\n",
    "euro_compra = pd.read_html('https://estadisticas.bcrp.gob.pe/estadisticas/series/diarias/resultados/PD04647PD/html', header=0)[1]\n",
    "euro_venta = pd.read_html('https://estadisticas.bcrp.gob.pe/estadisticas/series/diarias/resultados/PD04648PD/html', header=0)[1]\n",
    "\n",
    "TC = pd.merge(tipo_cambio_compra, tipo_cambio_venta, on='Fecha', how='inner')\n",
    "TC2 = pd.merge(TC, euro_compra, on='Fecha', how='inner')\n",
    "TC_final = pd.merge(TC2, euro_venta, on='Fecha', how='inner')\n",
    "\n",
    "TC_final.replace({'n.d.':0}, inplace=True)\n",
    "\n",
    "for i in TC_final.iloc[:,1:].columns:\n",
    "    TC_final[i] = TC_final[i].astype('float')\n",
    "\n",
    "TC_final['Fecha'] = TC_final['Fecha'].apply(convertir_fecha_espanol)\n",
    "TC_final['Fecha']"
   ]
  },
  {
   "cell_type": "code",
   "execution_count": 23,
   "id": "94358099",
   "metadata": {},
   "outputs": [],
   "source": [
    "TC_final.to_csv('G:/Mi unidad/VSC/indicadores_economicos/data/tipo_cambio_final.csv', index=False)"
   ]
  },
  {
   "cell_type": "markdown",
   "id": "af007afa",
   "metadata": {},
   "source": [
    "# Indicadores sociales"
   ]
  },
  {
   "cell_type": "code",
   "execution_count": 19,
   "id": "256dec12",
   "metadata": {},
   "outputs": [],
   "source": [
    "empleo_informal = pd.read_html('https://estadisticas.bcrp.gob.pe/estadisticas/series/mensuales/resultados/PN38071GM/html', header=0)[1]"
   ]
  },
  {
   "cell_type": "code",
   "execution_count": 20,
   "id": "de41c8ff",
   "metadata": {},
   "outputs": [],
   "source": [
    "# Desempleo\n",
    "\n",
    "desempleo = pd.read_html('https://estadisticas.bcrp.gob.pe/estadisticas/series/mensuales/resultados/PN38063GM/html', header=0)[1]   \n",
    "desempleo_mujer = pd.read_html('https://estadisticas.bcrp.gob.pe/estadisticas/series/mensuales/resultados/PN38064GM/html', header=0)[1] \n",
    "desempleo_hombre = pd.read_html('https://estadisticas.bcrp.gob.pe/estadisticas/series/mensuales/resultados/PN38065GM/html', header=0)[1]\n",
    "desempleo_14_24 = pd.read_html('https://estadisticas.bcrp.gob.pe/estadisticas/series/mensuales/resultados/PN38066GM/html', header=0)[1]\n",
    "desempleo_25_44 = pd.read_html('https://estadisticas.bcrp.gob.pe/estadisticas/series/mensuales/resultados/PN38067GM/html', header=0)[1]\n",
    "desempleo_45_64 = pd.read_html('https://estadisticas.bcrp.gob.pe/estadisticas/series/mensuales/resultados/PN38068GM/html', header=0)[1]"
   ]
  },
  {
   "cell_type": "code",
   "execution_count": 21,
   "id": "689da097",
   "metadata": {},
   "outputs": [],
   "source": [
    "merge1 = pd.merge(desempleo, desempleo_mujer, on='Fecha', how='inner')\n",
    "merge2 = pd.merge(merge1, desempleo_hombre, on='Fecha', how='inner')\n",
    "merge3 = pd.merge(merge2, desempleo_14_24, on='Fecha', how='inner')\n",
    "merge4 = pd.merge(merge3, desempleo_25_44, on='Fecha', how='inner')\n",
    "merge5 = pd.merge(merge4, desempleo_45_64, on='Fecha', how='inner')\n",
    "\n",
    "desempleo_final = merge5.rename(columns={\n",
    "    'Desempleo': 'Desempleo Total',\n",
    "    'Desempleo Mujer': 'Desempleo Mujer',\n",
    "    'Desempleo Hombre': 'Desempleo Hombre',\n",
    "    'Desempleo 14-24 años': 'Desempleo 14-24 años',\n",
    "    'Desempleo 25-44 años': 'Desempleo 25-44 años',\n",
    "    'Desempleo 45-64 años': 'Desempleo 45-64 años'\n",
    "})\n",
    "\n",
    "desempleo_final['Fecha'] = desempleo_final['Fecha'].apply(convertir_mes_fecha)"
   ]
  },
  {
   "cell_type": "code",
   "execution_count": 22,
   "id": "b32da76f",
   "metadata": {},
   "outputs": [],
   "source": [
    "# desempleo_final.to_csv('G:/Mi unidad/VSC/indicadores_economicos/data/desempleo_final.csv', index=False)"
   ]
  },
  {
   "cell_type": "code",
   "execution_count": null,
   "id": "035704fa",
   "metadata": {},
   "outputs": [],
   "source": []
  }
 ],
 "metadata": {
  "colab": {
   "provenance": []
  },
  "kernelspec": {
   "display_name": "Python 3",
   "language": "python",
   "name": "python3"
  },
  "language_info": {
   "codemirror_mode": {
    "name": "ipython",
    "version": 3
   },
   "file_extension": ".py",
   "mimetype": "text/x-python",
   "name": "python",
   "nbconvert_exporter": "python",
   "pygments_lexer": "ipython3",
   "version": "3.13.5"
  }
 },
 "nbformat": 4,
 "nbformat_minor": 5
}
