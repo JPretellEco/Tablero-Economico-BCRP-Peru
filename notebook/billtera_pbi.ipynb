{
 "cells": [
  {
   "cell_type": "markdown",
   "id": "acedd3ef",
   "metadata": {
    "id": "acedd3ef"
   },
   "source": [
    "# Indicadores Económicos - Trimestrales"
   ]
  },
  {
   "cell_type": "code",
   "execution_count": 28,
   "id": "0600a844",
   "metadata": {
    "executionInfo": {
     "elapsed": 31,
     "status": "ok",
     "timestamp": 1750105842210,
     "user": {
      "displayName": "Jeffersson Pretell",
      "userId": "10160713941337198683"
     },
     "user_tz": 300
    },
    "id": "0600a844"
   },
   "outputs": [],
   "source": [
    "from bs4 import BeautifulSoup\n",
    "import requests\n",
    "import pandas as pd"
   ]
  },
  {
   "cell_type": "code",
   "execution_count": 29,
   "id": "3a7092ab",
   "metadata": {},
   "outputs": [],
   "source": [
    "fecha = pd.read_html('https://estadisticas.bcrp.gob.pe/estadisticas/series/trimestrales/resultados/PN02541AQ/html',header=0)[1].iloc[:,0]"
   ]
  },
  {
   "cell_type": "code",
   "execution_count": 30,
   "id": "eb34e97a",
   "metadata": {},
   "outputs": [],
   "source": [
    "consumo_privado = pd.read_html('https://estadisticas.bcrp.gob.pe/estadisticas/series/trimestrales/resultados/PN02541AQ/html',header=0)[1].iloc[:, 1:]\n",
    "consumo_privado_real = pd.read_html('https://estadisticas.bcrp.gob.pe/estadisticas/series/trimestrales/resultados/PN02529AQ/html',header=0)[1].iloc[:, 1:]"
   ]
  },
  {
   "cell_type": "code",
   "execution_count": 31,
   "id": "3f591ed8",
   "metadata": {},
   "outputs": [],
   "source": [
    "inverrsion = pd.read_html('https://estadisticas.bcrp.gob.pe/estadisticas/series/trimestrales/resultados/PN02544AQ/html', header=0)[1].iloc[:, 1:]\n",
    "inversion_real = pd.read_html('https://estadisticas.bcrp.gob.pe/estadisticas/series/trimestrales/resultados/PN02532AQ/html', header=0)[1].iloc[:, 1:]"
   ]
  },
  {
   "cell_type": "code",
   "execution_count": 32,
   "id": "2b3d5fdf",
   "metadata": {},
   "outputs": [],
   "source": [
    "gasto_publico = pd.read_html('https://estadisticas.bcrp.gob.pe/estadisticas/series/trimestrales/resultados/PN02542AQ/html',header=0)[1].iloc[:, 1:]\n",
    "gasto_publico_real = pd.read_html('https://estadisticas.bcrp.gob.pe/estadisticas/series/trimestrales/resultados/PN02530AQ/html',header=0)[1].iloc[:, 1:]"
   ]
  },
  {
   "cell_type": "code",
   "execution_count": 33,
   "id": "928ef124",
   "metadata": {},
   "outputs": [],
   "source": [
    "# Sector externo\n",
    "## Exportaciones \n",
    "exportaciones_nominales = pd.read_html('https://estadisticas.bcrp.gob.pe/estadisticas/series/trimestrales/resultados/PN02548AQ/html', header=0)[1].iloc[:, 1:]\n",
    "exportaciones_reales = pd.read_html('https://estadisticas.bcrp.gob.pe/estadisticas/series/trimestrales/resultados/PN02536AQ/html',header=0)[1].iloc[:, 1:]\n",
    "\n",
    "## Importaciones \n",
    "importaciones_nominales = pd.read_html('https://estadisticas.bcrp.gob.pe/estadisticas/series/trimestrales/resultados/PN02549AQ/html', header=0)[1].iloc[:, 1:]\n",
    "importaciones_reales = pd.read_html('https://estadisticas.bcrp.gob.pe/estadisticas/series/trimestrales/resultados/PN02537AQ/html', header=0)[1].iloc[:, 1:]\n"
   ]
  },
  {
   "cell_type": "code",
   "execution_count": 34,
   "id": "5143b0d5",
   "metadata": {},
   "outputs": [],
   "source": [
    "# Juntamos toda la tabla\n",
    "\n",
    "tabla_trimestral_indicadores = pd.concat([fecha,\n",
    "                                        consumo_privado,\n",
    "                                         consumo_privado_real,\n",
    "                                         inverrsion,\n",
    "                                         inversion_real,\n",
    "                                         gasto_publico,\n",
    "                                         gasto_publico_real,\n",
    "                                         exportaciones_nominales,\n",
    "                                         exportaciones_reales,\n",
    "                                         importaciones_nominales,\n",
    "                                         importaciones_reales], axis=1)"
   ]
  },
  {
   "cell_type": "code",
   "execution_count": 35,
   "id": "d97b5aba",
   "metadata": {},
   "outputs": [],
   "source": [
    "tabla_trimestral_indicadores.dropna(inplace=True)"
   ]
  },
  {
   "cell_type": "code",
   "execution_count": 36,
   "id": "1beca114",
   "metadata": {},
   "outputs": [],
   "source": [
    "for i in tabla_trimestral_indicadores.iloc[:,1:].columns:\n",
    "    tabla_trimestral_indicadores[i] = tabla_trimestral_indicadores[i].astype('float')"
   ]
  },
  {
   "cell_type": "code",
   "execution_count": 37,
   "id": "d1f03022",
   "metadata": {},
   "outputs": [],
   "source": [
    "import pandas as pd\n",
    "\n",
    "def convertir_trimestre_a_fecha(columna):\n",
    "    def convertir(codigo):\n",
    "        try:\n",
    "            trimestre = int(codigo[1])\n",
    "            anio_base = int(codigo[2:])\n",
    "            \n",
    "            if anio_base >= 80:\n",
    "                anio = 1900 + anio_base\n",
    "            else:\n",
    "                anio = 2000 + anio_base\n",
    "\n",
    "            mes = (trimestre - 1) * 3 + 1\n",
    "            return pd.Timestamp(anio, mes, 1)\n",
    "        except:\n",
    "            return pd.NaT\n",
    "    \n",
    "    return columna.apply(convertir)\n",
    "\n",
    "from datetime import datetime\n",
    "\n",
    "from datetime import datetime\n",
    "\n",
    "def convertir_mes_fecha(texto):\n",
    "    meses = {\n",
    "        \"Ene\": \"01\", \"Feb\": \"02\", \"Mar\": \"03\", \"Abr\": \"04\",\n",
    "        \"May\": \"05\", \"Jun\": \"06\", \"Jul\": \"07\", \"Ago\": \"08\",\n",
    "        \"Set\": \"09\", \"Sep\": \"09\", \"Oct\": \"10\", \"Nov\": \"11\", \"Dic\": \"12\"\n",
    "    }\n",
    "\n",
    "    if not isinstance(texto, str):\n",
    "        return None  # o puedes usar np.nan\n",
    "\n",
    "    mes_abbr = texto[:3].capitalize()\n",
    "    anio_abbr = texto[3:]\n",
    "\n",
    "    if mes_abbr not in meses:\n",
    "        raise ValueError(f\"Mes inválido: {mes_abbr}\")\n",
    "\n",
    "    anio_completo = int(anio_abbr)\n",
    "    anio_completo = anio_completo + 2000 if anio_completo <= 25 else anio_completo + 1900\n",
    "\n",
    "    fecha_str = f\"{anio_completo}-{meses[mes_abbr]}-01\"\n",
    "    return pd.to_datetime(fecha_str)\n",
    "\n"
   ]
  },
  {
   "cell_type": "code",
   "execution_count": 38,
   "id": "019ca1ab",
   "metadata": {},
   "outputs": [],
   "source": [
    "tabla_trimestral_indicadores['Fecha'] = convertir_trimestre_a_fecha(tabla_trimestral_indicadores['Fecha'])"
   ]
  },
  {
   "cell_type": "code",
   "execution_count": 39,
   "id": "45f60474",
   "metadata": {},
   "outputs": [
    {
     "data": {
      "application/vnd.microsoft.datawrangler.viewer.v0+json": {
       "columns": [
        {
         "name": "index",
         "rawType": "int64",
         "type": "integer"
        },
        {
         "name": "Fecha",
         "rawType": "datetime64[ns]",
         "type": "datetime"
        },
        {
         "name": "Producto bruto interno por tipo de gasto (millones S/) - Demanda Interna - Consumo Privado",
         "rawType": "float64",
         "type": "float"
        },
        {
         "name": "Producto bruto interno por tipo de gasto (millones S/ 2007) - Demanda Interna - Consumo Privado",
         "rawType": "float64",
         "type": "float"
        },
        {
         "name": "Producto bruto interno por tipo de gasto (millones S/) - Demanda Interna - Inversión Bruta Interna - Inversión Bruta Fija",
         "rawType": "float64",
         "type": "float"
        },
        {
         "name": "Producto bruto interno por tipo de gasto (millones S/ 2007) - Demanda Interna - Inversión Bruta Interna - Inversión Bruta Fija",
         "rawType": "float64",
         "type": "float"
        },
        {
         "name": "Producto bruto interno por tipo de gasto (millones S/) - Demanda Interna - Consumo Público",
         "rawType": "float64",
         "type": "float"
        },
        {
         "name": "Producto bruto interno por tipo de gasto (millones S/ 2007) - Demanda Interna - Consumo Público",
         "rawType": "float64",
         "type": "float"
        },
        {
         "name": "Producto bruto interno por tipo de gasto (millones S/) - Exportaciones",
         "rawType": "float64",
         "type": "float"
        },
        {
         "name": "Producto bruto interno por tipo de gasto (millones S/ 2007) - Exportaciones",
         "rawType": "float64",
         "type": "float"
        },
        {
         "name": "Producto bruto interno por tipo de gasto (millones S/) - Importaciones",
         "rawType": "float64",
         "type": "float"
        },
        {
         "name": "Producto bruto interno por tipo de gasto (millones S/ 2007) - Importaciones",
         "rawType": "float64",
         "type": "float"
        }
       ],
       "ref": "6281988e-fc3a-40f8-bb11-4c9425bda219",
       "rows": [
        [
         "0",
         "1980-01-01 00:00:00",
         "549.0",
         "23549.0",
         "220.0",
         "4943.0",
         "142.0",
         "5084.0",
         "325.0",
         "7368.0",
         "210.0",
         "3647.0"
        ],
        [
         "1",
         "1980-04-01 00:00:00",
         "602.0",
         "22797.0",
         "285.0",
         "5599.0",
         "155.0",
         "4612.0",
         "301.0",
         "7878.0",
         "280.0",
         "4136.0"
        ],
        [
         "2",
         "1980-07-01 00:00:00",
         "767.0",
         "25670.0",
         "309.0",
         "6444.0",
         "186.0",
         "4863.0",
         "337.0",
         "8322.0",
         "296.0",
         "4738.0"
        ],
        [
         "3",
         "1980-10-01 00:00:00",
         "916.0",
         "24810.0",
         "455.0",
         "6622.0",
         "200.0",
         "4584.0",
         "399.0",
         "8894.0",
         "390.0",
         "4756.0"
        ],
        [
         "4",
         "1981-01-01 00:00:00",
         "1101.0",
         "24239.0",
         "452.0",
         "6689.0",
         "256.0",
         "6646.0",
         "384.0",
         "7886.0",
         "421.0",
         "5367.0"
        ],
        [
         "5",
         "1981-04-01 00:00:00",
         "1173.0",
         "24316.0",
         "541.0",
         "7888.0",
         "290.0",
         "6064.0",
         "405.0",
         "7449.0",
         "508.0",
         "6555.0"
        ],
        [
         "6",
         "1981-07-01 00:00:00",
         "1450.0",
         "27480.0",
         "639.0",
         "7310.0",
         "313.0",
         "5765.0",
         "449.0",
         "6788.0",
         "502.0",
         "6141.0"
        ],
        [
         "7",
         "1981-10-01 00:00:00",
         "1579.0",
         "28587.0",
         "911.0",
         "9561.0",
         "334.0",
         "5710.0",
         "488.0",
         "7623.0",
         "660.0",
         "7187.0"
        ],
        [
         "8",
         "1982-01-01 00:00:00",
         "1717.0",
         "28250.0",
         "865.0",
         "8457.0",
         "441.0",
         "6374.0",
         "518.0",
         "7675.0",
         "666.0",
         "7018.0"
        ],
        [
         "9",
         "1982-04-01 00:00:00",
         "1806.0",
         "26248.0",
         "951.0",
         "8966.0",
         "408.0",
         "6060.0",
         "678.0",
         "6997.0",
         "738.0",
         "7778.0"
        ],
        [
         "10",
         "1982-07-01 00:00:00",
         "2382.0",
         "29346.0",
         "1105.0",
         "8993.0",
         "794.0",
         "5837.0",
         "765.0",
         "7000.0",
         "828.0",
         "7005.0"
        ],
        [
         "11",
         "1982-10-01 00:00:00",
         "2613.0",
         "28596.0",
         "1471.0",
         "11330.0",
         "476.0",
         "5464.0",
         "957.0",
         "7300.0",
         "1190.0",
         "8098.0"
        ],
        [
         "12",
         "1983-01-01 00:00:00",
         "3102.0",
         "27416.0",
         "1115.0",
         "9264.0",
         "727.0",
         "6597.0",
         "876.0",
         "7778.0",
         "891.0",
         "7625.0"
        ],
        [
         "13",
         "1983-04-01 00:00:00",
         "3675.0",
         "25226.0",
         "1194.0",
         "8766.0",
         "1027.0",
         "4970.0",
         "1444.0",
         "8523.0",
         "1423.0",
         "7325.0"
        ],
        [
         "14",
         "1983-07-01 00:00:00",
         "4779.0",
         "29457.0",
         "1649.0",
         "8465.0",
         "1056.0",
         "9703.0",
         "1966.0",
         "7612.0",
         "1679.0",
         "6864.0"
        ],
        [
         "15",
         "1983-10-01 00:00:00",
         "5307.0",
         "27627.0",
         "2382.0",
         "9814.0",
         "1027.0",
         "4683.0",
         "1984.0",
         "7943.0",
         "2131.0",
         "8160.0"
        ],
        [
         "16",
         "1984-01-01 00:00:00",
         "6588.0",
         "26792.0",
         "2036.0",
         "6116.0",
         "1311.0",
         "6340.0",
         "2218.0",
         "6412.0",
         "1812.0",
         "5051.0"
        ],
        [
         "17",
         "1984-04-01 00:00:00",
         "7624.0",
         "25384.0",
         "2559.0",
         "5600.0",
         "1566.0",
         "6889.0",
         "2982.0",
         "7731.0",
         "2423.0",
         "6305.0"
        ],
        [
         "18",
         "1984-07-01 00:00:00",
         "10256.0",
         "26468.0",
         "3336.0",
         "6136.0",
         "2073.0",
         "5604.0",
         "3901.0",
         "7345.0",
         "2938.0",
         "5561.0"
        ],
        [
         "19",
         "1984-10-01 00:00:00",
         "12476.0",
         "24944.0",
         "4405.0",
         "7781.0",
         "2278.0",
         "5004.0",
         "4580.0",
         "6709.0",
         "3898.0",
         "5966.0"
        ],
        [
         "20",
         "1985-01-01 00:00:00",
         "16492.0",
         "25523.0",
         "4820.0",
         "5913.0",
         "3315.0",
         "6179.0",
         "6255.0",
         "7369.0",
         "4887.0",
         "4545.0"
        ],
        [
         "21",
         "1985-04-01 00:00:00",
         "20429.0",
         "24516.0",
         "6284.0",
         "5765.0",
         "4452.0",
         "5500.0",
         "9525.0",
         "7628.0",
         "7107.0",
         "4912.0"
        ],
        [
         "22",
         "1985-07-01 00:00:00",
         "28739.0",
         "27980.0",
         "7982.0",
         "6172.0",
         "5409.0",
         "5334.0",
         "13939.0",
         "7684.0",
         "9253.0",
         "4772.0"
        ],
        [
         "23",
         "1985-10-01 00:00:00",
         "32264.0",
         "28425.0",
         "10620.0",
         "6855.0",
         "6227.0",
         "5257.0",
         "14591.0",
         "7607.0",
         "9785.0",
         "5033.0"
        ],
        [
         "24",
         "1986-01-01 00:00:00",
         "38337.0",
         "28134.0",
         "9986.0",
         "5541.0",
         "8453.0",
         "6493.0",
         "12127.0",
         "7932.0",
         "9598.0",
         "4413.0"
        ],
        [
         "25",
         "1986-04-01 00:00:00",
         "42814.0",
         "25635.0",
         "11565.0",
         "5058.0",
         "8124.0",
         "5589.0",
         "11753.0",
         "8193.0",
         "12568.0",
         "4536.0"
        ],
        [
         "26",
         "1986-07-01 00:00:00",
         "56140.0",
         "27233.0",
         "15259.0",
         "4529.0",
         "9885.0",
         "5430.0",
         "13188.0",
         "7682.0",
         "14611.0",
         "3960.0"
        ],
        [
         "27",
         "1986-10-01 00:00:00",
         "65504.0",
         "27305.0",
         "19962.0",
         "5888.0",
         "11422.0",
         "5740.0",
         "13216.0",
         "7727.0",
         "17606.0",
         "3788.0"
        ],
        [
         "28",
         "1987-01-01 00:00:00",
         "80046.0",
         "28643.0",
         "19113.0",
         "5227.0",
         "13496.0",
         "7100.0",
         "13899.0",
         "7104.0",
         "17881.0",
         "3898.0"
        ],
        [
         "29",
         "1987-04-01 00:00:00",
         "82314.0",
         "28289.0",
         "22160.0",
         "5643.0",
         "14855.0",
         "5769.0",
         "17124.0",
         "6916.0",
         "16605.0",
         "5076.0"
        ],
        [
         "30",
         "1987-07-01 00:00:00",
         "116485.0",
         "33140.0",
         "29057.0",
         "6594.0",
         "21499.0",
         "6197.0",
         "21690.0",
         "6636.0",
         "23031.0",
         "5420.0"
        ],
        [
         "31",
         "1987-10-01 00:00:00",
         "136863.0",
         "34491.0",
         "37422.0",
         "7861.0",
         "25971.0",
         "6035.0",
         "26954.0",
         "6672.0",
         "32168.0",
         "6066.0"
        ],
        [
         "32",
         "1988-01-01 00:00:00",
         "184.0",
         "35928.0",
         "50.0",
         "6847.0",
         "38.0",
         "7184.0",
         "39.0",
         "6569.0",
         "42.0",
         "5756.0"
        ],
        [
         "33",
         "1988-04-01 00:00:00",
         "251.0",
         "31107.0",
         "65.0",
         "6960.0",
         "41.0",
         "5918.0",
         "72.0",
         "7047.0",
         "51.0",
         "4900.0"
        ],
        [
         "34",
         "1988-07-01 00:00:00",
         "631.0",
         "36587.0",
         "157.0",
         "7675.0",
         "82.0",
         "6791.0",
         "145.0",
         "6670.0",
         "164.0",
         "6071.0"
        ],
        [
         "35",
         "1988-10-01 00:00:00",
         "1570.0",
         "35019.0",
         "450.0",
         "7890.0",
         "167.0",
         "6644.0",
         "328.0",
         "6066.0",
         "432.0",
         "6202.0"
        ],
        [
         "36",
         "1989-01-01 00:00:00",
         "3524.0",
         "34176.0",
         "913.0",
         "7047.0",
         "403.0",
         "6798.0",
         "1097.0",
         "6486.0",
         "953.0",
         "5442.0"
        ],
        [
         "37",
         "1989-04-01 00:00:00",
         "6639.0",
         "30689.0",
         "1670.0",
         "6562.0",
         "984.0",
         "5060.0",
         "2410.0",
         "6975.0",
         "1979.0",
         "5448.0"
        ],
        [
         "38",
         "1989-07-01 00:00:00",
         "15775.0",
         "33892.0",
         "3876.0",
         "5887.0",
         "2248.0",
         "5358.0",
         "4160.0",
         "5989.0",
         "2735.0",
         "5568.0"
        ],
        [
         "39",
         "1989-10-01 00:00:00",
         "35675.0",
         "28326.0",
         "8740.0",
         "5343.0",
         "4129.0",
         "5138.0",
         "8069.0",
         "5151.0",
         "6450.0",
         "4161.0"
        ],
        [
         "40",
         "1990-01-01 00:00:00",
         "75.0",
         "24920.0",
         "14.0",
         "4496.0",
         "12.0",
         "4239.0",
         "13.0",
         "7194.0",
         "13.0",
         "3911.0"
        ],
        [
         "41",
         "1990-04-01 00:00:00",
         "169.0",
         "23229.0",
         "39.0",
         "4966.0",
         "22.0",
         "4093.0",
         "36.0",
         "7633.0",
         "34.0",
         "4369.0"
        ],
        [
         "42",
         "1990-07-01 00:00:00",
         "1331.0",
         "27771.0",
         "265.0",
         "5503.0",
         "131.0",
         "4292.0",
         "313.0",
         "7473.0",
         "286.0",
         "3731.0"
        ],
        [
         "43",
         "1990-10-01 00:00:00",
         "2505.0",
         "30399.0",
         "485.0",
         "6653.0",
         "233.0",
         "5467.0",
         "496.0",
         "6918.0",
         "420.0",
         "4929.0"
        ],
        [
         "44",
         "1991-01-01 00:00:00",
         "3392.0",
         "28406.0",
         "583.0",
         "6018.0",
         "360.0",
         "5627.0",
         "553.0",
         "6280.0",
         "548.0",
         "5953.0"
        ],
        [
         "45",
         "1991-04-01 00:00:00",
         "4492.0",
         "26296.0",
         "833.0",
         "6184.0",
         "408.0",
         "4386.0",
         "848.0",
         "6166.0",
         "897.0",
         "4742.0"
        ],
        [
         "46",
         "1991-07-01 00:00:00",
         "6014.0",
         "24792.0",
         "1142.0",
         "4641.0",
         "561.0",
         "3117.0",
         "875.0",
         "6726.0",
         "1049.0",
         "4441.0"
        ],
        [
         "47",
         "1991-10-01 00:00:00",
         "6738.0",
         "26241.0",
         "1430.0",
         "4980.0",
         "704.0",
         "3119.0",
         "983.0",
         "6624.0",
         "1368.0",
         "3865.0"
        ],
        [
         "48",
         "1992-01-01 00:00:00",
         "7444.0",
         "25970.0",
         "1387.0",
         "4660.0",
         "667.0",
         "4147.0",
         "993.0",
         "6490.0",
         "1379.0",
         "4549.0"
        ],
        [
         "49",
         "1992-04-01 00:00:00",
         "8097.0",
         "27034.0",
         "1450.0",
         "5383.0",
         "826.0",
         "3784.0",
         "1148.0",
         "7294.0",
         "1461.0",
         "5576.0"
        ]
       ],
       "shape": {
        "columns": 11,
        "rows": 181
       }
      },
      "text/html": [
       "<div>\n",
       "<style scoped>\n",
       "    .dataframe tbody tr th:only-of-type {\n",
       "        vertical-align: middle;\n",
       "    }\n",
       "\n",
       "    .dataframe tbody tr th {\n",
       "        vertical-align: top;\n",
       "    }\n",
       "\n",
       "    .dataframe thead th {\n",
       "        text-align: right;\n",
       "    }\n",
       "</style>\n",
       "<table border=\"1\" class=\"dataframe\">\n",
       "  <thead>\n",
       "    <tr style=\"text-align: right;\">\n",
       "      <th></th>\n",
       "      <th>Fecha</th>\n",
       "      <th>Producto bruto interno por tipo de gasto (millones S/) - Demanda Interna - Consumo Privado</th>\n",
       "      <th>Producto bruto interno por tipo de gasto (millones S/ 2007) - Demanda Interna - Consumo Privado</th>\n",
       "      <th>Producto bruto interno por tipo de gasto (millones S/) - Demanda Interna - Inversión Bruta Interna - Inversión Bruta Fija</th>\n",
       "      <th>Producto bruto interno por tipo de gasto (millones S/ 2007) - Demanda Interna - Inversión Bruta Interna - Inversión Bruta Fija</th>\n",
       "      <th>Producto bruto interno por tipo de gasto (millones S/) - Demanda Interna - Consumo Público</th>\n",
       "      <th>Producto bruto interno por tipo de gasto (millones S/ 2007) - Demanda Interna - Consumo Público</th>\n",
       "      <th>Producto bruto interno por tipo de gasto (millones S/) - Exportaciones</th>\n",
       "      <th>Producto bruto interno por tipo de gasto (millones S/ 2007) - Exportaciones</th>\n",
       "      <th>Producto bruto interno por tipo de gasto (millones S/) - Importaciones</th>\n",
       "      <th>Producto bruto interno por tipo de gasto (millones S/ 2007) - Importaciones</th>\n",
       "    </tr>\n",
       "  </thead>\n",
       "  <tbody>\n",
       "    <tr>\n",
       "      <th>0</th>\n",
       "      <td>1980-01-01</td>\n",
       "      <td>549.0</td>\n",
       "      <td>23549.0</td>\n",
       "      <td>220.0</td>\n",
       "      <td>4943.0</td>\n",
       "      <td>142.0</td>\n",
       "      <td>5084.0</td>\n",
       "      <td>325.0</td>\n",
       "      <td>7368.0</td>\n",
       "      <td>210.0</td>\n",
       "      <td>3647.0</td>\n",
       "    </tr>\n",
       "    <tr>\n",
       "      <th>1</th>\n",
       "      <td>1980-04-01</td>\n",
       "      <td>602.0</td>\n",
       "      <td>22797.0</td>\n",
       "      <td>285.0</td>\n",
       "      <td>5599.0</td>\n",
       "      <td>155.0</td>\n",
       "      <td>4612.0</td>\n",
       "      <td>301.0</td>\n",
       "      <td>7878.0</td>\n",
       "      <td>280.0</td>\n",
       "      <td>4136.0</td>\n",
       "    </tr>\n",
       "    <tr>\n",
       "      <th>2</th>\n",
       "      <td>1980-07-01</td>\n",
       "      <td>767.0</td>\n",
       "      <td>25670.0</td>\n",
       "      <td>309.0</td>\n",
       "      <td>6444.0</td>\n",
       "      <td>186.0</td>\n",
       "      <td>4863.0</td>\n",
       "      <td>337.0</td>\n",
       "      <td>8322.0</td>\n",
       "      <td>296.0</td>\n",
       "      <td>4738.0</td>\n",
       "    </tr>\n",
       "    <tr>\n",
       "      <th>3</th>\n",
       "      <td>1980-10-01</td>\n",
       "      <td>916.0</td>\n",
       "      <td>24810.0</td>\n",
       "      <td>455.0</td>\n",
       "      <td>6622.0</td>\n",
       "      <td>200.0</td>\n",
       "      <td>4584.0</td>\n",
       "      <td>399.0</td>\n",
       "      <td>8894.0</td>\n",
       "      <td>390.0</td>\n",
       "      <td>4756.0</td>\n",
       "    </tr>\n",
       "    <tr>\n",
       "      <th>4</th>\n",
       "      <td>1981-01-01</td>\n",
       "      <td>1101.0</td>\n",
       "      <td>24239.0</td>\n",
       "      <td>452.0</td>\n",
       "      <td>6689.0</td>\n",
       "      <td>256.0</td>\n",
       "      <td>6646.0</td>\n",
       "      <td>384.0</td>\n",
       "      <td>7886.0</td>\n",
       "      <td>421.0</td>\n",
       "      <td>5367.0</td>\n",
       "    </tr>\n",
       "    <tr>\n",
       "      <th>...</th>\n",
       "      <td>...</td>\n",
       "      <td>...</td>\n",
       "      <td>...</td>\n",
       "      <td>...</td>\n",
       "      <td>...</td>\n",
       "      <td>...</td>\n",
       "      <td>...</td>\n",
       "      <td>...</td>\n",
       "      <td>...</td>\n",
       "      <td>...</td>\n",
       "      <td>...</td>\n",
       "    </tr>\n",
       "    <tr>\n",
       "      <th>176</th>\n",
       "      <td>2024-01-01</td>\n",
       "      <td>162213.0</td>\n",
       "      <td>90625.0</td>\n",
       "      <td>51976.0</td>\n",
       "      <td>29063.0</td>\n",
       "      <td>33258.0</td>\n",
       "      <td>18948.0</td>\n",
       "      <td>68515.0</td>\n",
       "      <td>33859.0</td>\n",
       "      <td>58054.0</td>\n",
       "      <td>34774.0</td>\n",
       "    </tr>\n",
       "    <tr>\n",
       "      <th>177</th>\n",
       "      <td>2024-04-01</td>\n",
       "      <td>177005.0</td>\n",
       "      <td>97029.0</td>\n",
       "      <td>57447.0</td>\n",
       "      <td>32943.0</td>\n",
       "      <td>34507.0</td>\n",
       "      <td>18929.0</td>\n",
       "      <td>72459.0</td>\n",
       "      <td>35364.0</td>\n",
       "      <td>59619.0</td>\n",
       "      <td>36264.0</td>\n",
       "    </tr>\n",
       "    <tr>\n",
       "      <th>178</th>\n",
       "      <td>2024-07-01</td>\n",
       "      <td>172676.0</td>\n",
       "      <td>93214.0</td>\n",
       "      <td>63552.0</td>\n",
       "      <td>35022.0</td>\n",
       "      <td>36170.0</td>\n",
       "      <td>19769.0</td>\n",
       "      <td>84744.0</td>\n",
       "      <td>35912.0</td>\n",
       "      <td>65632.0</td>\n",
       "      <td>39169.0</td>\n",
       "    </tr>\n",
       "    <tr>\n",
       "      <th>179</th>\n",
       "      <td>2024-10-01</td>\n",
       "      <td>171517.0</td>\n",
       "      <td>92166.0</td>\n",
       "      <td>71619.0</td>\n",
       "      <td>39859.0</td>\n",
       "      <td>42903.0</td>\n",
       "      <td>23785.0</td>\n",
       "      <td>86764.0</td>\n",
       "      <td>39130.0</td>\n",
       "      <td>69067.0</td>\n",
       "      <td>40127.0</td>\n",
       "    </tr>\n",
       "    <tr>\n",
       "      <th>180</th>\n",
       "      <td>2025-01-01</td>\n",
       "      <td>170927.0</td>\n",
       "      <td>91701.0</td>\n",
       "      <td>56713.0</td>\n",
       "      <td>30947.0</td>\n",
       "      <td>35963.0</td>\n",
       "      <td>19550.0</td>\n",
       "      <td>83269.0</td>\n",
       "      <td>35652.0</td>\n",
       "      <td>65976.0</td>\n",
       "      <td>37291.0</td>\n",
       "    </tr>\n",
       "  </tbody>\n",
       "</table>\n",
       "<p>181 rows × 11 columns</p>\n",
       "</div>"
      ],
      "text/plain": [
       "         Fecha  \\\n",
       "0   1980-01-01   \n",
       "1   1980-04-01   \n",
       "2   1980-07-01   \n",
       "3   1980-10-01   \n",
       "4   1981-01-01   \n",
       "..         ...   \n",
       "176 2024-01-01   \n",
       "177 2024-04-01   \n",
       "178 2024-07-01   \n",
       "179 2024-10-01   \n",
       "180 2025-01-01   \n",
       "\n",
       "     Producto bruto interno por tipo de gasto (millones S/) - Demanda Interna - Consumo Privado  \\\n",
       "0                                                549.0                                            \n",
       "1                                                602.0                                            \n",
       "2                                                767.0                                            \n",
       "3                                                916.0                                            \n",
       "4                                               1101.0                                            \n",
       "..                                                 ...                                            \n",
       "176                                           162213.0                                            \n",
       "177                                           177005.0                                            \n",
       "178                                           172676.0                                            \n",
       "179                                           171517.0                                            \n",
       "180                                           170927.0                                            \n",
       "\n",
       "     Producto bruto interno por tipo de gasto (millones S/ 2007) - Demanda Interna - Consumo Privado  \\\n",
       "0                                              23549.0                                                 \n",
       "1                                              22797.0                                                 \n",
       "2                                              25670.0                                                 \n",
       "3                                              24810.0                                                 \n",
       "4                                              24239.0                                                 \n",
       "..                                                 ...                                                 \n",
       "176                                            90625.0                                                 \n",
       "177                                            97029.0                                                 \n",
       "178                                            93214.0                                                 \n",
       "179                                            92166.0                                                 \n",
       "180                                            91701.0                                                 \n",
       "\n",
       "     Producto bruto interno por tipo de gasto (millones S/) - Demanda Interna - Inversión Bruta Interna - Inversión Bruta Fija  \\\n",
       "0                                                220.0                                                                           \n",
       "1                                                285.0                                                                           \n",
       "2                                                309.0                                                                           \n",
       "3                                                455.0                                                                           \n",
       "4                                                452.0                                                                           \n",
       "..                                                 ...                                                                           \n",
       "176                                            51976.0                                                                           \n",
       "177                                            57447.0                                                                           \n",
       "178                                            63552.0                                                                           \n",
       "179                                            71619.0                                                                           \n",
       "180                                            56713.0                                                                           \n",
       "\n",
       "     Producto bruto interno por tipo de gasto (millones S/ 2007) - Demanda Interna - Inversión Bruta Interna - Inversión Bruta Fija  \\\n",
       "0                                               4943.0                                                                                \n",
       "1                                               5599.0                                                                                \n",
       "2                                               6444.0                                                                                \n",
       "3                                               6622.0                                                                                \n",
       "4                                               6689.0                                                                                \n",
       "..                                                 ...                                                                                \n",
       "176                                            29063.0                                                                                \n",
       "177                                            32943.0                                                                                \n",
       "178                                            35022.0                                                                                \n",
       "179                                            39859.0                                                                                \n",
       "180                                            30947.0                                                                                \n",
       "\n",
       "     Producto bruto interno por tipo de gasto (millones S/) - Demanda Interna - Consumo Público  \\\n",
       "0                                                142.0                                            \n",
       "1                                                155.0                                            \n",
       "2                                                186.0                                            \n",
       "3                                                200.0                                            \n",
       "4                                                256.0                                            \n",
       "..                                                 ...                                            \n",
       "176                                            33258.0                                            \n",
       "177                                            34507.0                                            \n",
       "178                                            36170.0                                            \n",
       "179                                            42903.0                                            \n",
       "180                                            35963.0                                            \n",
       "\n",
       "     Producto bruto interno por tipo de gasto (millones S/ 2007) - Demanda Interna - Consumo Público  \\\n",
       "0                                               5084.0                                                 \n",
       "1                                               4612.0                                                 \n",
       "2                                               4863.0                                                 \n",
       "3                                               4584.0                                                 \n",
       "4                                               6646.0                                                 \n",
       "..                                                 ...                                                 \n",
       "176                                            18948.0                                                 \n",
       "177                                            18929.0                                                 \n",
       "178                                            19769.0                                                 \n",
       "179                                            23785.0                                                 \n",
       "180                                            19550.0                                                 \n",
       "\n",
       "     Producto bruto interno por tipo de gasto (millones S/) - Exportaciones  \\\n",
       "0                                                325.0                        \n",
       "1                                                301.0                        \n",
       "2                                                337.0                        \n",
       "3                                                399.0                        \n",
       "4                                                384.0                        \n",
       "..                                                 ...                        \n",
       "176                                            68515.0                        \n",
       "177                                            72459.0                        \n",
       "178                                            84744.0                        \n",
       "179                                            86764.0                        \n",
       "180                                            83269.0                        \n",
       "\n",
       "     Producto bruto interno por tipo de gasto (millones S/ 2007) - Exportaciones  \\\n",
       "0                                               7368.0                             \n",
       "1                                               7878.0                             \n",
       "2                                               8322.0                             \n",
       "3                                               8894.0                             \n",
       "4                                               7886.0                             \n",
       "..                                                 ...                             \n",
       "176                                            33859.0                             \n",
       "177                                            35364.0                             \n",
       "178                                            35912.0                             \n",
       "179                                            39130.0                             \n",
       "180                                            35652.0                             \n",
       "\n",
       "     Producto bruto interno por tipo de gasto (millones S/) - Importaciones  \\\n",
       "0                                                210.0                        \n",
       "1                                                280.0                        \n",
       "2                                                296.0                        \n",
       "3                                                390.0                        \n",
       "4                                                421.0                        \n",
       "..                                                 ...                        \n",
       "176                                            58054.0                        \n",
       "177                                            59619.0                        \n",
       "178                                            65632.0                        \n",
       "179                                            69067.0                        \n",
       "180                                            65976.0                        \n",
       "\n",
       "     Producto bruto interno por tipo de gasto (millones S/ 2007) - Importaciones  \n",
       "0                                               3647.0                            \n",
       "1                                               4136.0                            \n",
       "2                                               4738.0                            \n",
       "3                                               4756.0                            \n",
       "4                                               5367.0                            \n",
       "..                                                 ...                            \n",
       "176                                            34774.0                            \n",
       "177                                            36264.0                            \n",
       "178                                            39169.0                            \n",
       "179                                            40127.0                            \n",
       "180                                            37291.0                            \n",
       "\n",
       "[181 rows x 11 columns]"
      ]
     },
     "execution_count": 39,
     "metadata": {},
     "output_type": "execute_result"
    }
   ],
   "source": [
    "tabla_trimestral_indicadores"
   ]
  },
  {
   "cell_type": "code",
   "execution_count": 40,
   "id": "c85ed23b",
   "metadata": {},
   "outputs": [],
   "source": [
    "# tabla_trimestral_indicadores.to_csv('tabla_trimestral_indicadores.csv', index=False)"
   ]
  },
  {
   "cell_type": "code",
   "execution_count": 41,
   "id": "b07ae4f3",
   "metadata": {},
   "outputs": [
    {
     "data": {
      "application/vnd.microsoft.datawrangler.viewer.v0+json": {
       "columns": [
        {
         "name": "index",
         "rawType": "int64",
         "type": "integer"
        },
        {
         "name": "Fecha",
         "rawType": "object",
         "type": "string"
        },
        {
         "name": "Índice de precios Lima Metropolitana (índice Dic.2021 = 100) - Índice de Precios al Consumidor (IPC)",
         "rawType": "float64",
         "type": "float"
        }
       ],
       "ref": "e116b39d-b562-4af2-a6d7-35a2d25681e0",
       "rows": [
        [
         "0",
         "Ene91",
         "7.39"
        ],
        [
         "1",
         "Feb91",
         "8.09"
        ],
        [
         "2",
         "Mar91",
         "8.71"
        ],
        [
         "3",
         "Abr91",
         "9.22"
        ],
        [
         "4",
         "May91",
         "9.93"
        ],
        [
         "5",
         "Jun91",
         "10.84"
        ],
        [
         "6",
         "Jul91",
         "11.83"
        ],
        [
         "7",
         "Ago91",
         "12.68"
        ],
        [
         "8",
         "Sep91",
         "13.39"
        ],
        [
         "9",
         "Oct91",
         "13.92"
        ],
        [
         "10",
         "Nov91",
         "14.47"
        ],
        [
         "11",
         "Dic91",
         "15.01"
        ],
        [
         "12",
         "Ene92",
         "15.54"
        ],
        [
         "13",
         "Feb92",
         "16.28"
        ],
        [
         "14",
         "Mar92",
         "17.49"
        ],
        [
         "15",
         "Abr92",
         "18.04"
        ],
        [
         "16",
         "May92",
         "18.66"
        ],
        [
         "17",
         "Jun92",
         "19.33"
        ],
        [
         "18",
         "Jul92",
         "20.01"
        ],
        [
         "19",
         "Ago92",
         "20.57"
        ],
        [
         "20",
         "Sep92",
         "21.11"
        ],
        [
         "21",
         "Oct92",
         "21.88"
        ],
        [
         "22",
         "Nov92",
         "22.65"
        ],
        [
         "23",
         "Dic92",
         "23.53"
        ],
        [
         "24",
         "Ene93",
         "24.67"
        ],
        [
         "25",
         "Feb93",
         "25.39"
        ],
        [
         "26",
         "Mar93",
         "26.46"
        ],
        [
         "27",
         "Abr93",
         "27.64"
        ],
        [
         "28",
         "May93",
         "28.47"
        ],
        [
         "29",
         "Jun93",
         "28.99"
        ],
        [
         "30",
         "Jul93",
         "29.79"
        ],
        [
         "31",
         "Ago93",
         "30.54"
        ],
        [
         "32",
         "Sep93",
         "31.04"
        ],
        [
         "33",
         "Oct93",
         "31.5"
        ],
        [
         "34",
         "Nov93",
         "32.01"
        ],
        [
         "35",
         "Dic93",
         "32.81"
        ],
        [
         "36",
         "Ene94",
         "33.42"
        ],
        [
         "37",
         "Feb94",
         "34.02"
        ],
        [
         "38",
         "Mar94",
         "34.82"
        ],
        [
         "39",
         "Abr94",
         "35.35"
        ],
        [
         "40",
         "May94",
         "35.61"
        ],
        [
         "41",
         "Jun94",
         "36.01"
        ],
        [
         "42",
         "Jul94",
         "36.33"
        ],
        [
         "43",
         "Ago94",
         "36.89"
        ],
        [
         "44",
         "Sep94",
         "37.08"
        ],
        [
         "45",
         "Oct94",
         "37.19"
        ],
        [
         "46",
         "Nov94",
         "37.64"
        ],
        [
         "47",
         "Dic94",
         "37.86"
        ],
        [
         "48",
         "Ene95",
         "38.0"
        ],
        [
         "49",
         "Feb95",
         "38.43"
        ]
       ],
       "shape": {
        "columns": 2,
        "rows": 413
       }
      },
      "text/html": [
       "<div>\n",
       "<style scoped>\n",
       "    .dataframe tbody tr th:only-of-type {\n",
       "        vertical-align: middle;\n",
       "    }\n",
       "\n",
       "    .dataframe tbody tr th {\n",
       "        vertical-align: top;\n",
       "    }\n",
       "\n",
       "    .dataframe thead th {\n",
       "        text-align: right;\n",
       "    }\n",
       "</style>\n",
       "<table border=\"1\" class=\"dataframe\">\n",
       "  <thead>\n",
       "    <tr style=\"text-align: right;\">\n",
       "      <th></th>\n",
       "      <th>Fecha</th>\n",
       "      <th>Índice de precios Lima Metropolitana (índice Dic.2021 = 100) - Índice de Precios al Consumidor (IPC)</th>\n",
       "    </tr>\n",
       "  </thead>\n",
       "  <tbody>\n",
       "    <tr>\n",
       "      <th>0</th>\n",
       "      <td>Ene91</td>\n",
       "      <td>7.39</td>\n",
       "    </tr>\n",
       "    <tr>\n",
       "      <th>1</th>\n",
       "      <td>Feb91</td>\n",
       "      <td>8.09</td>\n",
       "    </tr>\n",
       "    <tr>\n",
       "      <th>2</th>\n",
       "      <td>Mar91</td>\n",
       "      <td>8.71</td>\n",
       "    </tr>\n",
       "    <tr>\n",
       "      <th>3</th>\n",
       "      <td>Abr91</td>\n",
       "      <td>9.22</td>\n",
       "    </tr>\n",
       "    <tr>\n",
       "      <th>4</th>\n",
       "      <td>May91</td>\n",
       "      <td>9.93</td>\n",
       "    </tr>\n",
       "    <tr>\n",
       "      <th>...</th>\n",
       "      <td>...</td>\n",
       "      <td>...</td>\n",
       "    </tr>\n",
       "    <tr>\n",
       "      <th>408</th>\n",
       "      <td>Ene25</td>\n",
       "      <td>114.07</td>\n",
       "    </tr>\n",
       "    <tr>\n",
       "      <th>409</th>\n",
       "      <td>Feb25</td>\n",
       "      <td>114.28</td>\n",
       "    </tr>\n",
       "    <tr>\n",
       "      <th>410</th>\n",
       "      <td>Mar25</td>\n",
       "      <td>115.21</td>\n",
       "    </tr>\n",
       "    <tr>\n",
       "      <th>411</th>\n",
       "      <td>Abr25</td>\n",
       "      <td>115.57</td>\n",
       "    </tr>\n",
       "    <tr>\n",
       "      <th>412</th>\n",
       "      <td>May25</td>\n",
       "      <td>115.51</td>\n",
       "    </tr>\n",
       "  </tbody>\n",
       "</table>\n",
       "<p>413 rows × 2 columns</p>\n",
       "</div>"
      ],
      "text/plain": [
       "     Fecha  \\\n",
       "0    Ene91   \n",
       "1    Feb91   \n",
       "2    Mar91   \n",
       "3    Abr91   \n",
       "4    May91   \n",
       "..     ...   \n",
       "408  Ene25   \n",
       "409  Feb25   \n",
       "410  Mar25   \n",
       "411  Abr25   \n",
       "412  May25   \n",
       "\n",
       "     Índice de precios Lima Metropolitana (índice Dic.2021 = 100) - Índice de Precios al Consumidor (IPC)  \n",
       "0                                                 7.39                                                     \n",
       "1                                                 8.09                                                     \n",
       "2                                                 8.71                                                     \n",
       "3                                                 9.22                                                     \n",
       "4                                                 9.93                                                     \n",
       "..                                                 ...                                                     \n",
       "408                                             114.07                                                     \n",
       "409                                             114.28                                                     \n",
       "410                                             115.21                                                     \n",
       "411                                             115.57                                                     \n",
       "412                                             115.51                                                     \n",
       "\n",
       "[413 rows x 2 columns]"
      ]
     },
     "execution_count": 41,
     "metadata": {},
     "output_type": "execute_result"
    }
   ],
   "source": [
    "inflacion_mensual = pd.read_html('https://estadisticas.bcrp.gob.pe/estadisticas/series/mensuales/resultados/PN38705PM/html', header=0)[1]\n",
    "inflacion_mensual"
   ]
  },
  {
   "cell_type": "code",
   "execution_count": 42,
   "id": "0562122e",
   "metadata": {},
   "outputs": [
    {
     "data": {
      "application/vnd.microsoft.datawrangler.viewer.v0+json": {
       "columns": [
        {
         "name": "index",
         "rawType": "int64",
         "type": "integer"
        },
        {
         "name": "Fecha",
         "rawType": "object",
         "type": "string"
        },
        {
         "name": "Índice de precios Lima Metropolitana (índice Dic.2021 = 100) - IPC Sin Alimentos y Energía",
         "rawType": "float64",
         "type": "float"
        }
       ],
       "ref": "628c1d64-5aa9-43f8-8840-d3b37a075ae5",
       "rows": [
        [
         "0",
         "Ene92",
         "15.12"
        ],
        [
         "1",
         "Feb92",
         "16.02"
        ],
        [
         "2",
         "Mar92",
         "16.88"
        ],
        [
         "3",
         "Abr92",
         "17.42"
        ],
        [
         "4",
         "May92",
         "17.94"
        ],
        [
         "5",
         "Jun92",
         "19.02"
        ],
        [
         "6",
         "Jul92",
         "19.56"
        ],
        [
         "7",
         "Ago92",
         "20.13"
        ],
        [
         "8",
         "Sep92",
         "20.79"
        ],
        [
         "9",
         "Oct92",
         "21.44"
        ],
        [
         "10",
         "Nov92",
         "22.0"
        ],
        [
         "11",
         "Dic92",
         "22.68"
        ],
        [
         "12",
         "Ene93",
         "23.88"
        ],
        [
         "13",
         "Feb93",
         "24.44"
        ],
        [
         "14",
         "Mar93",
         "25.3"
        ],
        [
         "15",
         "Abr93",
         "25.99"
        ],
        [
         "16",
         "May93",
         "26.74"
        ],
        [
         "17",
         "Jun93",
         "27.56"
        ],
        [
         "18",
         "Jul93",
         "28.27"
        ],
        [
         "19",
         "Ago93",
         "29.64"
        ],
        [
         "20",
         "Sep93",
         "30.31"
        ],
        [
         "21",
         "Oct93",
         "30.76"
        ],
        [
         "22",
         "Nov93",
         "31.24"
        ],
        [
         "23",
         "Dic93",
         "32.6"
        ],
        [
         "24",
         "Ene94",
         "33.4"
        ],
        [
         "25",
         "Feb94",
         "34.21"
        ],
        [
         "26",
         "Mar94",
         "34.89"
        ],
        [
         "27",
         "Abr94",
         "35.49"
        ],
        [
         "28",
         "May94",
         "36.1"
        ],
        [
         "29",
         "Jun94",
         "36.38"
        ],
        [
         "30",
         "Jul94",
         "36.78"
        ],
        [
         "31",
         "Ago94",
         "37.15"
        ],
        [
         "32",
         "Sep94",
         "37.49"
        ],
        [
         "33",
         "Oct94",
         "37.93"
        ],
        [
         "34",
         "Nov94",
         "38.26"
        ],
        [
         "35",
         "Dic94",
         "38.55"
        ],
        [
         "36",
         "Ene95",
         "38.95"
        ],
        [
         "37",
         "Feb95",
         "39.23"
        ],
        [
         "38",
         "Mar95",
         "39.94"
        ],
        [
         "39",
         "Abr95",
         "40.51"
        ],
        [
         "40",
         "May95",
         "40.87"
        ],
        [
         "41",
         "Jun95",
         "41.25"
        ],
        [
         "42",
         "Jul95",
         "41.55"
        ],
        [
         "43",
         "Ago95",
         "41.88"
        ],
        [
         "44",
         "Sep95",
         "42.15"
        ],
        [
         "45",
         "Oct95",
         "42.37"
        ],
        [
         "46",
         "Nov95",
         "42.58"
        ],
        [
         "47",
         "Dic95",
         "42.89"
        ],
        [
         "48",
         "Ene96",
         "43.13"
        ],
        [
         "49",
         "Feb96",
         "43.31"
        ]
       ],
       "shape": {
        "columns": 2,
        "rows": 401
       }
      },
      "text/html": [
       "<div>\n",
       "<style scoped>\n",
       "    .dataframe tbody tr th:only-of-type {\n",
       "        vertical-align: middle;\n",
       "    }\n",
       "\n",
       "    .dataframe tbody tr th {\n",
       "        vertical-align: top;\n",
       "    }\n",
       "\n",
       "    .dataframe thead th {\n",
       "        text-align: right;\n",
       "    }\n",
       "</style>\n",
       "<table border=\"1\" class=\"dataframe\">\n",
       "  <thead>\n",
       "    <tr style=\"text-align: right;\">\n",
       "      <th></th>\n",
       "      <th>Fecha</th>\n",
       "      <th>Índice de precios Lima Metropolitana (índice Dic.2021 = 100) - IPC Sin Alimentos y Energía</th>\n",
       "    </tr>\n",
       "  </thead>\n",
       "  <tbody>\n",
       "    <tr>\n",
       "      <th>0</th>\n",
       "      <td>Ene92</td>\n",
       "      <td>15.12</td>\n",
       "    </tr>\n",
       "    <tr>\n",
       "      <th>1</th>\n",
       "      <td>Feb92</td>\n",
       "      <td>16.02</td>\n",
       "    </tr>\n",
       "    <tr>\n",
       "      <th>2</th>\n",
       "      <td>Mar92</td>\n",
       "      <td>16.88</td>\n",
       "    </tr>\n",
       "    <tr>\n",
       "      <th>3</th>\n",
       "      <td>Abr92</td>\n",
       "      <td>17.42</td>\n",
       "    </tr>\n",
       "    <tr>\n",
       "      <th>4</th>\n",
       "      <td>May92</td>\n",
       "      <td>17.94</td>\n",
       "    </tr>\n",
       "    <tr>\n",
       "      <th>...</th>\n",
       "      <td>...</td>\n",
       "      <td>...</td>\n",
       "    </tr>\n",
       "    <tr>\n",
       "      <th>396</th>\n",
       "      <td>Ene25</td>\n",
       "      <td>111.31</td>\n",
       "    </tr>\n",
       "    <tr>\n",
       "      <th>397</th>\n",
       "      <td>Feb25</td>\n",
       "      <td>111.52</td>\n",
       "    </tr>\n",
       "    <tr>\n",
       "      <th>398</th>\n",
       "      <td>Mar25</td>\n",
       "      <td>112.23</td>\n",
       "    </tr>\n",
       "    <tr>\n",
       "      <th>399</th>\n",
       "      <td>Abr25</td>\n",
       "      <td>112.39</td>\n",
       "    </tr>\n",
       "    <tr>\n",
       "      <th>400</th>\n",
       "      <td>May25</td>\n",
       "      <td>112.44</td>\n",
       "    </tr>\n",
       "  </tbody>\n",
       "</table>\n",
       "<p>401 rows × 2 columns</p>\n",
       "</div>"
      ],
      "text/plain": [
       "     Fecha  \\\n",
       "0    Ene92   \n",
       "1    Feb92   \n",
       "2    Mar92   \n",
       "3    Abr92   \n",
       "4    May92   \n",
       "..     ...   \n",
       "396  Ene25   \n",
       "397  Feb25   \n",
       "398  Mar25   \n",
       "399  Abr25   \n",
       "400  May25   \n",
       "\n",
       "     Índice de precios Lima Metropolitana (índice Dic.2021 = 100) - IPC Sin Alimentos y Energía  \n",
       "0                                                15.12                                           \n",
       "1                                                16.02                                           \n",
       "2                                                16.88                                           \n",
       "3                                                17.42                                           \n",
       "4                                                17.94                                           \n",
       "..                                                 ...                                           \n",
       "396                                             111.31                                           \n",
       "397                                             111.52                                           \n",
       "398                                             112.23                                           \n",
       "399                                             112.39                                           \n",
       "400                                             112.44                                           \n",
       "\n",
       "[401 rows x 2 columns]"
      ]
     },
     "execution_count": 42,
     "metadata": {},
     "output_type": "execute_result"
    }
   ],
   "source": [
    "inflancion_sin_alimentos = pd.read_html('https://estadisticas.bcrp.gob.pe/estadisticas/series/mensuales/resultados/PN38707PM/html', header=0)[1]\n",
    "inflancion_sin_alimentos"
   ]
  },
  {
   "cell_type": "code",
   "execution_count": 43,
   "id": "28d6fe97",
   "metadata": {},
   "outputs": [
    {
     "data": {
      "application/vnd.microsoft.datawrangler.viewer.v0+json": {
       "columns": [
        {
         "name": "index",
         "rawType": "int64",
         "type": "integer"
        },
        {
         "name": "Fecha",
         "rawType": "object",
         "type": "string"
        },
        {
         "name": "Índice de precios Lima Metropolitana (índice Dic.2021 = 100) - IPC Alimentos y Energía",
         "rawType": "float64",
         "type": "float"
        }
       ],
       "ref": "f15425aa-8ca7-4788-b53b-3c7e05a2aa73",
       "rows": [
        [
         "0",
         "Dic90",
         "7.08"
        ],
        [
         "1",
         "Ene91",
         "8.03"
        ],
        [
         "2",
         "Feb91",
         "8.31"
        ],
        [
         "3",
         "Mar91",
         "8.64"
        ],
        [
         "4",
         "Abr91",
         "9.03"
        ],
        [
         "5",
         "May91",
         "9.74"
        ],
        [
         "6",
         "Jun91",
         "10.57"
        ],
        [
         "7",
         "Jul91",
         "11.4"
        ],
        [
         "8",
         "Ago91",
         "12.42"
        ],
        [
         "9",
         "Sep91",
         "12.85"
        ],
        [
         "10",
         "Oct91",
         "13.24"
        ],
        [
         "11",
         "Nov91",
         "13.83"
        ],
        [
         "12",
         "Dic91",
         "14.44"
        ],
        [
         "13",
         "Ene92",
         "15.11"
        ],
        [
         "14",
         "Feb92",
         "15.69"
        ],
        [
         "15",
         "Mar92",
         "17.12"
        ],
        [
         "16",
         "Abr92",
         "17.66"
        ],
        [
         "17",
         "May92",
         "18.32"
        ],
        [
         "18",
         "Jun92",
         "18.64"
        ],
        [
         "19",
         "Jul92",
         "19.39"
        ],
        [
         "20",
         "Ago92",
         "19.92"
        ],
        [
         "21",
         "Sep92",
         "20.34"
        ],
        [
         "22",
         "Oct92",
         "21.16"
        ],
        [
         "23",
         "Nov92",
         "22.06"
        ],
        [
         "24",
         "Dic92",
         "23.04"
        ],
        [
         "25",
         "Ene93",
         "24.08"
        ],
        [
         "26",
         "Feb93",
         "24.89"
        ],
        [
         "27",
         "Mar93",
         "26.08"
        ],
        [
         "28",
         "Abr93",
         "27.57"
        ],
        [
         "29",
         "May93",
         "28.43"
        ],
        [
         "30",
         "Jun93",
         "28.69"
        ],
        [
         "31",
         "Jul93",
         "29.48"
        ],
        [
         "32",
         "Ago93",
         "29.77"
        ],
        [
         "33",
         "Sep93",
         "30.1"
        ],
        [
         "34",
         "Oct93",
         "30.56"
        ],
        [
         "35",
         "Nov93",
         "31.06"
        ],
        [
         "36",
         "Dic93",
         "31.41"
        ],
        [
         "37",
         "Ene94",
         "31.83"
        ],
        [
         "38",
         "Feb94",
         "32.25"
        ],
        [
         "39",
         "Mar94",
         "33.09"
        ],
        [
         "40",
         "Abr94",
         "33.55"
        ],
        [
         "41",
         "May94",
         "33.53"
        ],
        [
         "42",
         "Jun94",
         "34.01"
        ],
        [
         "43",
         "Jul94",
         "34.26"
        ],
        [
         "44",
         "Ago94",
         "34.93"
        ],
        [
         "45",
         "Sep94",
         "35.0"
        ],
        [
         "46",
         "Oct94",
         "34.84"
        ],
        [
         "47",
         "Nov94",
         "35.37"
        ],
        [
         "48",
         "Dic94",
         "35.53"
        ],
        [
         "49",
         "Ene95",
         "35.52"
        ]
       ],
       "shape": {
        "columns": 2,
        "rows": 414
       }
      },
      "text/html": [
       "<div>\n",
       "<style scoped>\n",
       "    .dataframe tbody tr th:only-of-type {\n",
       "        vertical-align: middle;\n",
       "    }\n",
       "\n",
       "    .dataframe tbody tr th {\n",
       "        vertical-align: top;\n",
       "    }\n",
       "\n",
       "    .dataframe thead th {\n",
       "        text-align: right;\n",
       "    }\n",
       "</style>\n",
       "<table border=\"1\" class=\"dataframe\">\n",
       "  <thead>\n",
       "    <tr style=\"text-align: right;\">\n",
       "      <th></th>\n",
       "      <th>Fecha</th>\n",
       "      <th>Índice de precios Lima Metropolitana (índice Dic.2021 = 100) - IPC Alimentos y Energía</th>\n",
       "    </tr>\n",
       "  </thead>\n",
       "  <tbody>\n",
       "    <tr>\n",
       "      <th>0</th>\n",
       "      <td>Dic90</td>\n",
       "      <td>7.08</td>\n",
       "    </tr>\n",
       "    <tr>\n",
       "      <th>1</th>\n",
       "      <td>Ene91</td>\n",
       "      <td>8.03</td>\n",
       "    </tr>\n",
       "    <tr>\n",
       "      <th>2</th>\n",
       "      <td>Feb91</td>\n",
       "      <td>8.31</td>\n",
       "    </tr>\n",
       "    <tr>\n",
       "      <th>3</th>\n",
       "      <td>Mar91</td>\n",
       "      <td>8.64</td>\n",
       "    </tr>\n",
       "    <tr>\n",
       "      <th>4</th>\n",
       "      <td>Abr91</td>\n",
       "      <td>9.03</td>\n",
       "    </tr>\n",
       "    <tr>\n",
       "      <th>...</th>\n",
       "      <td>...</td>\n",
       "      <td>...</td>\n",
       "    </tr>\n",
       "    <tr>\n",
       "      <th>409</th>\n",
       "      <td>Ene25</td>\n",
       "      <td>117.48</td>\n",
       "    </tr>\n",
       "    <tr>\n",
       "      <th>410</th>\n",
       "      <td>Feb25</td>\n",
       "      <td>117.69</td>\n",
       "    </tr>\n",
       "    <tr>\n",
       "      <th>411</th>\n",
       "      <td>Mar25</td>\n",
       "      <td>118.89</td>\n",
       "    </tr>\n",
       "    <tr>\n",
       "      <th>412</th>\n",
       "      <td>Abr25</td>\n",
       "      <td>119.51</td>\n",
       "    </tr>\n",
       "    <tr>\n",
       "      <th>413</th>\n",
       "      <td>May25</td>\n",
       "      <td>119.29</td>\n",
       "    </tr>\n",
       "  </tbody>\n",
       "</table>\n",
       "<p>414 rows × 2 columns</p>\n",
       "</div>"
      ],
      "text/plain": [
       "     Fecha  \\\n",
       "0    Dic90   \n",
       "1    Ene91   \n",
       "2    Feb91   \n",
       "3    Mar91   \n",
       "4    Abr91   \n",
       "..     ...   \n",
       "409  Ene25   \n",
       "410  Feb25   \n",
       "411  Mar25   \n",
       "412  Abr25   \n",
       "413  May25   \n",
       "\n",
       "     Índice de precios Lima Metropolitana (índice Dic.2021 = 100) - IPC Alimentos y Energía  \n",
       "0                                                 7.08                                       \n",
       "1                                                 8.03                                       \n",
       "2                                                 8.31                                       \n",
       "3                                                 8.64                                       \n",
       "4                                                 9.03                                       \n",
       "..                                                 ...                                       \n",
       "409                                             117.48                                       \n",
       "410                                             117.69                                       \n",
       "411                                             118.89                                       \n",
       "412                                             119.51                                       \n",
       "413                                             119.29                                       \n",
       "\n",
       "[414 rows x 2 columns]"
      ]
     },
     "execution_count": 43,
     "metadata": {},
     "output_type": "execute_result"
    }
   ],
   "source": [
    "inflacion_alimentos_energia = pd.read_html('https://estadisticas.bcrp.gob.pe/estadisticas/series/mensuales/resultados/PN39521PM/html', header=0)[1]\n",
    "inflacion_alimentos_energia"
   ]
  },
  {
   "cell_type": "code",
   "execution_count": 44,
   "id": "d639da91",
   "metadata": {},
   "outputs": [
    {
     "data": {
      "application/vnd.microsoft.datawrangler.viewer.v0+json": {
       "columns": [
        {
         "name": "index",
         "rawType": "int64",
         "type": "integer"
        },
        {
         "name": "Fecha",
         "rawType": "object",
         "type": "string"
        },
        {
         "name": "Índice de precios Lima Metropolitana (var% acumulada) - IPC",
         "rawType": "float64",
         "type": "float"
        }
       ],
       "ref": "a860d7cd-585e-4984-a022-752e0c0db7d8",
       "rows": [
        [
         "0",
         "Ene50",
         "1.42"
        ],
        [
         "1",
         "Feb50",
         "0.18"
        ],
        [
         "2",
         "Mar50",
         "0.31"
        ],
        [
         "3",
         "Abr50",
         "0.0"
        ],
        [
         "4",
         "May50",
         "1.36"
        ],
        [
         "5",
         "Jun50",
         "1.05"
        ],
        [
         "6",
         "Jul50",
         "1.35"
        ],
        [
         "7",
         "Ago50",
         "0.27"
        ],
        [
         "8",
         "Sep50",
         "0.53"
        ],
        [
         "9",
         "Oct50",
         "5.19"
        ],
        [
         "10",
         "Nov50",
         "6.49"
        ],
        [
         "11",
         "Dic50",
         "7.6"
        ],
        [
         "12",
         "Ene51",
         "2.89"
        ],
        [
         "13",
         "Feb51",
         "2.12"
        ],
        [
         "14",
         "Mar51",
         "2.41"
        ],
        [
         "15",
         "Abr51",
         "2.87"
        ],
        [
         "16",
         "May51",
         "3.03"
        ],
        [
         "17",
         "Jun51",
         "3.96"
        ],
        [
         "18",
         "Jul51",
         "4.12"
        ],
        [
         "19",
         "Ago51",
         "4.91"
        ],
        [
         "20",
         "Sep51",
         "5.58"
        ],
        [
         "21",
         "Oct51",
         "6.0"
        ],
        [
         "22",
         "Nov51",
         "6.84"
        ],
        [
         "23",
         "Dic51",
         "7.87"
        ],
        [
         "24",
         "Ene52",
         "0.28"
        ],
        [
         "25",
         "Feb52",
         "0.56"
        ],
        [
         "26",
         "Mar52",
         "1.31"
        ],
        [
         "27",
         "Abr52",
         "1.64"
        ],
        [
         "28",
         "May52",
         "2.32"
        ],
        [
         "29",
         "Jun52",
         "2.83"
        ],
        [
         "30",
         "Jul52",
         "3.75"
        ],
        [
         "31",
         "Ago52",
         "4.85"
        ],
        [
         "32",
         "Sep52",
         "5.41"
        ],
        [
         "33",
         "Oct52",
         "5.5"
        ],
        [
         "34",
         "Nov52",
         "6.34"
        ],
        [
         "35",
         "Dic52",
         "6.75"
        ],
        [
         "36",
         "Ene53",
         "0.32"
        ],
        [
         "37",
         "Feb53",
         "0.47"
        ],
        [
         "38",
         "Mar53",
         "0.72"
        ],
        [
         "39",
         "Abr53",
         "0.85"
        ],
        [
         "40",
         "May53",
         "8.51"
        ],
        [
         "41",
         "Jun53",
         "7.93"
        ],
        [
         "42",
         "Jul53",
         "7.95"
        ],
        [
         "43",
         "Ago53",
         "7.62"
        ],
        [
         "44",
         "Sep53",
         "8.35"
        ],
        [
         "45",
         "Oct53",
         "8.69"
        ],
        [
         "46",
         "Nov53",
         "8.65"
        ],
        [
         "47",
         "Dic53",
         "8.61"
        ],
        [
         "48",
         "Ene54",
         "0.52"
        ],
        [
         "49",
         "Feb54",
         "0.98"
        ]
       ],
       "shape": {
        "columns": 2,
        "rows": 905
       }
      },
      "text/html": [
       "<div>\n",
       "<style scoped>\n",
       "    .dataframe tbody tr th:only-of-type {\n",
       "        vertical-align: middle;\n",
       "    }\n",
       "\n",
       "    .dataframe tbody tr th {\n",
       "        vertical-align: top;\n",
       "    }\n",
       "\n",
       "    .dataframe thead th {\n",
       "        text-align: right;\n",
       "    }\n",
       "</style>\n",
       "<table border=\"1\" class=\"dataframe\">\n",
       "  <thead>\n",
       "    <tr style=\"text-align: right;\">\n",
       "      <th></th>\n",
       "      <th>Fecha</th>\n",
       "      <th>Índice de precios Lima Metropolitana (var% acumulada) - IPC</th>\n",
       "    </tr>\n",
       "  </thead>\n",
       "  <tbody>\n",
       "    <tr>\n",
       "      <th>0</th>\n",
       "      <td>Ene50</td>\n",
       "      <td>1.42</td>\n",
       "    </tr>\n",
       "    <tr>\n",
       "      <th>1</th>\n",
       "      <td>Feb50</td>\n",
       "      <td>0.18</td>\n",
       "    </tr>\n",
       "    <tr>\n",
       "      <th>2</th>\n",
       "      <td>Mar50</td>\n",
       "      <td>0.31</td>\n",
       "    </tr>\n",
       "    <tr>\n",
       "      <th>3</th>\n",
       "      <td>Abr50</td>\n",
       "      <td>0.00</td>\n",
       "    </tr>\n",
       "    <tr>\n",
       "      <th>4</th>\n",
       "      <td>May50</td>\n",
       "      <td>1.36</td>\n",
       "    </tr>\n",
       "    <tr>\n",
       "      <th>...</th>\n",
       "      <td>...</td>\n",
       "      <td>...</td>\n",
       "    </tr>\n",
       "    <tr>\n",
       "      <th>900</th>\n",
       "      <td>Ene25</td>\n",
       "      <td>-0.09</td>\n",
       "    </tr>\n",
       "    <tr>\n",
       "      <th>901</th>\n",
       "      <td>Feb25</td>\n",
       "      <td>0.09</td>\n",
       "    </tr>\n",
       "    <tr>\n",
       "      <th>902</th>\n",
       "      <td>Mar25</td>\n",
       "      <td>0.91</td>\n",
       "    </tr>\n",
       "    <tr>\n",
       "      <th>903</th>\n",
       "      <td>Abr25</td>\n",
       "      <td>1.23</td>\n",
       "    </tr>\n",
       "    <tr>\n",
       "      <th>904</th>\n",
       "      <td>May25</td>\n",
       "      <td>1.17</td>\n",
       "    </tr>\n",
       "  </tbody>\n",
       "</table>\n",
       "<p>905 rows × 2 columns</p>\n",
       "</div>"
      ],
      "text/plain": [
       "     Fecha  Índice de precios Lima Metropolitana (var% acumulada) - IPC\n",
       "0    Ene50                                               1.42          \n",
       "1    Feb50                                               0.18          \n",
       "2    Mar50                                               0.31          \n",
       "3    Abr50                                               0.00          \n",
       "4    May50                                               1.36          \n",
       "..     ...                                                ...          \n",
       "900  Ene25                                              -0.09          \n",
       "901  Feb25                                               0.09          \n",
       "902  Mar25                                               0.91          \n",
       "903  Abr25                                               1.23          \n",
       "904  May25                                               1.17          \n",
       "\n",
       "[905 rows x 2 columns]"
      ]
     },
     "execution_count": 44,
     "metadata": {},
     "output_type": "execute_result"
    }
   ],
   "source": [
    "inflacion_12_meses = pd.read_html('https://estadisticas.bcrp.gob.pe/estadisticas/series/mensuales/resultados/PN01272PM/html', header=0)[1]\n",
    "inflacion_12_meses"
   ]
  },
  {
   "cell_type": "code",
   "execution_count": 45,
   "id": "d7e01245",
   "metadata": {},
   "outputs": [],
   "source": [
    "\n",
    "inflacion_alimentos_energia['Fecha'] = inflacion_alimentos_energia['Fecha'].apply(convertir_mes_fecha)\n",
    "inflacion_mensual['Fecha'] = inflacion_mensual['Fecha'].apply(convertir_mes_fecha)\n",
    "inflancion_sin_alimentos['Fecha'] = inflancion_sin_alimentos['Fecha'].apply(convertir_mes_fecha)\n",
    "inflacion_12_meses['Fecha'] = inflacion_12_meses['Fecha'].apply(convertir_mes_fecha)"
   ]
  },
  {
   "cell_type": "code",
   "execution_count": 46,
   "id": "113d2b08",
   "metadata": {},
   "outputs": [],
   "source": [
    "merge1 = pd.merge(inflacion_alimentos_energia, inflacion_mensual, on='Fecha',how = 'inner')\n",
    "merge2 = pd.merge(merge1, inflancion_sin_alimentos, on='Fecha', how='inner')\n",
    "tabla_inflacion = pd.merge(merge2, inflacion_12_meses, on='Fecha', how='inner')"
   ]
  },
  {
   "cell_type": "code",
   "execution_count": 47,
   "id": "296bb415",
   "metadata": {},
   "outputs": [
    {
     "data": {
      "application/vnd.microsoft.datawrangler.viewer.v0+json": {
       "columns": [
        {
         "name": "index",
         "rawType": "int64",
         "type": "integer"
        },
        {
         "name": "Fecha",
         "rawType": "datetime64[ns]",
         "type": "datetime"
        },
        {
         "name": "Índice de precios Lima Metropolitana (índice Dic.2021 = 100) - IPC Alimentos y Energía",
         "rawType": "float64",
         "type": "float"
        },
        {
         "name": "Índice de precios Lima Metropolitana (índice Dic.2021 = 100) - Índice de Precios al Consumidor (IPC)",
         "rawType": "float64",
         "type": "float"
        },
        {
         "name": "Índice de precios Lima Metropolitana (índice Dic.2021 = 100) - IPC Sin Alimentos y Energía",
         "rawType": "float64",
         "type": "float"
        },
        {
         "name": "Índice de precios Lima Metropolitana (var% acumulada) - IPC",
         "rawType": "float64",
         "type": "float"
        }
       ],
       "ref": "7ccab3d4-b6e1-4ccd-a420-24d25c66c95f",
       "rows": [
        [
         "0",
         "1992-01-01 00:00:00",
         "15.11",
         "15.54",
         "15.12",
         "3.54"
        ],
        [
         "1",
         "1992-02-01 00:00:00",
         "15.69",
         "16.28",
         "16.02",
         "8.45"
        ],
        [
         "2",
         "1992-03-01 00:00:00",
         "17.12",
         "17.49",
         "16.88",
         "16.52"
        ],
        [
         "3",
         "1992-04-01 00:00:00",
         "17.66",
         "18.04",
         "17.42",
         "20.22"
        ],
        [
         "4",
         "1992-05-01 00:00:00",
         "18.32",
         "18.66",
         "17.94",
         "24.35"
        ],
        [
         "5",
         "1992-06-01 00:00:00",
         "18.64",
         "19.33",
         "19.02",
         "28.81"
        ],
        [
         "6",
         "1992-07-01 00:00:00",
         "19.39",
         "20.01",
         "19.56",
         "33.29"
        ],
        [
         "7",
         "1992-08-01 00:00:00",
         "19.92",
         "20.57",
         "20.13",
         "37.06"
        ],
        [
         "8",
         "1992-09-01 00:00:00",
         "20.34",
         "21.11",
         "20.79",
         "40.65"
        ],
        [
         "9",
         "1992-10-01 00:00:00",
         "21.16",
         "21.88",
         "21.44",
         "45.76"
        ],
        [
         "10",
         "1992-11-01 00:00:00",
         "22.06",
         "22.65",
         "22.0",
         "50.92"
        ],
        [
         "11",
         "1992-12-01 00:00:00",
         "23.04",
         "23.53",
         "22.68",
         "56.73"
        ],
        [
         "12",
         "1993-01-01 00:00:00",
         "24.08",
         "24.67",
         "23.88",
         "4.85"
        ],
        [
         "13",
         "1993-02-01 00:00:00",
         "24.89",
         "25.39",
         "24.44",
         "7.92"
        ],
        [
         "14",
         "1993-03-01 00:00:00",
         "26.08",
         "26.46",
         "25.3",
         "12.49"
        ],
        [
         "15",
         "1993-04-01 00:00:00",
         "27.57",
         "27.64",
         "25.99",
         "17.47"
        ],
        [
         "16",
         "1993-05-01 00:00:00",
         "28.43",
         "28.47",
         "26.74",
         "21.04"
        ],
        [
         "17",
         "1993-06-01 00:00:00",
         "28.69",
         "28.99",
         "27.56",
         "23.24"
        ],
        [
         "18",
         "1993-07-01 00:00:00",
         "29.48",
         "29.79",
         "28.27",
         "26.61"
        ],
        [
         "19",
         "1993-08-01 00:00:00",
         "29.77",
         "30.54",
         "29.64",
         "29.82"
        ],
        [
         "20",
         "1993-09-01 00:00:00",
         "30.1",
         "31.04",
         "30.31",
         "31.92"
        ],
        [
         "21",
         "1993-10-01 00:00:00",
         "30.56",
         "31.5",
         "30.76",
         "33.91"
        ],
        [
         "22",
         "1993-11-01 00:00:00",
         "31.06",
         "32.01",
         "31.24",
         "36.06"
        ],
        [
         "23",
         "1993-12-01 00:00:00",
         "31.41",
         "32.81",
         "32.6",
         "39.48"
        ],
        [
         "24",
         "1994-01-01 00:00:00",
         "31.83",
         "33.42",
         "33.4",
         "1.84"
        ],
        [
         "25",
         "1994-02-01 00:00:00",
         "32.25",
         "34.02",
         "34.21",
         "3.69"
        ],
        [
         "26",
         "1994-03-01 00:00:00",
         "33.09",
         "34.82",
         "34.89",
         "6.1"
        ],
        [
         "27",
         "1994-04-01 00:00:00",
         "33.55",
         "35.35",
         "35.49",
         "7.74"
        ],
        [
         "28",
         "1994-05-01 00:00:00",
         "33.53",
         "35.61",
         "36.1",
         "8.51"
        ],
        [
         "29",
         "1994-06-01 00:00:00",
         "34.01",
         "36.01",
         "36.38",
         "9.75"
        ],
        [
         "30",
         "1994-07-01 00:00:00",
         "34.26",
         "36.33",
         "36.78",
         "10.73"
        ],
        [
         "31",
         "1994-08-01 00:00:00",
         "34.93",
         "36.89",
         "37.15",
         "12.42"
        ],
        [
         "32",
         "1994-09-01 00:00:00",
         "35.0",
         "37.08",
         "37.49",
         "13.0"
        ],
        [
         "33",
         "1994-10-01 00:00:00",
         "34.84",
         "37.19",
         "37.93",
         "13.33"
        ],
        [
         "34",
         "1994-11-01 00:00:00",
         "35.37",
         "37.64",
         "38.26",
         "14.71"
        ],
        [
         "35",
         "1994-12-01 00:00:00",
         "35.53",
         "37.86",
         "38.55",
         "15.38"
        ],
        [
         "36",
         "1995-01-01 00:00:00",
         "35.52",
         "38.0",
         "38.95",
         "0.37"
        ],
        [
         "37",
         "1995-02-01 00:00:00",
         "36.01",
         "38.43",
         "39.23",
         "1.51"
        ],
        [
         "38",
         "1995-03-01 00:00:00",
         "36.41",
         "38.96",
         "39.94",
         "2.91"
        ],
        [
         "39",
         "1995-04-01 00:00:00",
         "36.67",
         "39.34",
         "40.51",
         "3.92"
        ],
        [
         "40",
         "1995-05-01 00:00:00",
         "36.98",
         "39.67",
         "40.87",
         "4.79"
        ],
        [
         "41",
         "1995-06-01 00:00:00",
         "37.25",
         "39.99",
         "41.25",
         "5.63"
        ],
        [
         "42",
         "1995-07-01 00:00:00",
         "37.42",
         "40.22",
         "41.55",
         "6.24"
        ],
        [
         "43",
         "1995-08-01 00:00:00",
         "37.86",
         "40.64",
         "41.88",
         "7.34"
        ],
        [
         "44",
         "1995-09-01 00:00:00",
         "37.96",
         "40.8",
         "42.15",
         "7.76"
        ],
        [
         "45",
         "1995-10-01 00:00:00",
         "38.14",
         "41.01",
         "42.37",
         "8.31"
        ],
        [
         "46",
         "1995-11-01 00:00:00",
         "38.79",
         "41.52",
         "42.58",
         "9.65"
        ],
        [
         "47",
         "1995-12-01 00:00:00",
         "38.94",
         "41.73",
         "42.89",
         "10.23"
        ],
        [
         "48",
         "1996-01-01 00:00:00",
         "39.58",
         "42.25",
         "43.13",
         "1.24"
        ],
        [
         "49",
         "1996-02-01 00:00:00",
         "40.45",
         "42.9",
         "43.31",
         "2.8"
        ]
       ],
       "shape": {
        "columns": 5,
        "rows": 401
       }
      },
      "text/html": [
       "<div>\n",
       "<style scoped>\n",
       "    .dataframe tbody tr th:only-of-type {\n",
       "        vertical-align: middle;\n",
       "    }\n",
       "\n",
       "    .dataframe tbody tr th {\n",
       "        vertical-align: top;\n",
       "    }\n",
       "\n",
       "    .dataframe thead th {\n",
       "        text-align: right;\n",
       "    }\n",
       "</style>\n",
       "<table border=\"1\" class=\"dataframe\">\n",
       "  <thead>\n",
       "    <tr style=\"text-align: right;\">\n",
       "      <th></th>\n",
       "      <th>Fecha</th>\n",
       "      <th>Índice de precios Lima Metropolitana (índice Dic.2021 = 100) - IPC Alimentos y Energía</th>\n",
       "      <th>Índice de precios Lima Metropolitana (índice Dic.2021 = 100) - Índice de Precios al Consumidor (IPC)</th>\n",
       "      <th>Índice de precios Lima Metropolitana (índice Dic.2021 = 100) - IPC Sin Alimentos y Energía</th>\n",
       "      <th>Índice de precios Lima Metropolitana (var% acumulada) - IPC</th>\n",
       "    </tr>\n",
       "  </thead>\n",
       "  <tbody>\n",
       "    <tr>\n",
       "      <th>0</th>\n",
       "      <td>1992-01-01</td>\n",
       "      <td>15.11</td>\n",
       "      <td>15.54</td>\n",
       "      <td>15.12</td>\n",
       "      <td>3.54</td>\n",
       "    </tr>\n",
       "    <tr>\n",
       "      <th>1</th>\n",
       "      <td>1992-02-01</td>\n",
       "      <td>15.69</td>\n",
       "      <td>16.28</td>\n",
       "      <td>16.02</td>\n",
       "      <td>8.45</td>\n",
       "    </tr>\n",
       "    <tr>\n",
       "      <th>2</th>\n",
       "      <td>1992-03-01</td>\n",
       "      <td>17.12</td>\n",
       "      <td>17.49</td>\n",
       "      <td>16.88</td>\n",
       "      <td>16.52</td>\n",
       "    </tr>\n",
       "    <tr>\n",
       "      <th>3</th>\n",
       "      <td>1992-04-01</td>\n",
       "      <td>17.66</td>\n",
       "      <td>18.04</td>\n",
       "      <td>17.42</td>\n",
       "      <td>20.22</td>\n",
       "    </tr>\n",
       "    <tr>\n",
       "      <th>4</th>\n",
       "      <td>1992-05-01</td>\n",
       "      <td>18.32</td>\n",
       "      <td>18.66</td>\n",
       "      <td>17.94</td>\n",
       "      <td>24.35</td>\n",
       "    </tr>\n",
       "    <tr>\n",
       "      <th>...</th>\n",
       "      <td>...</td>\n",
       "      <td>...</td>\n",
       "      <td>...</td>\n",
       "      <td>...</td>\n",
       "      <td>...</td>\n",
       "    </tr>\n",
       "    <tr>\n",
       "      <th>396</th>\n",
       "      <td>2025-01-01</td>\n",
       "      <td>117.48</td>\n",
       "      <td>114.07</td>\n",
       "      <td>111.31</td>\n",
       "      <td>-0.09</td>\n",
       "    </tr>\n",
       "    <tr>\n",
       "      <th>397</th>\n",
       "      <td>2025-02-01</td>\n",
       "      <td>117.69</td>\n",
       "      <td>114.28</td>\n",
       "      <td>111.52</td>\n",
       "      <td>0.09</td>\n",
       "    </tr>\n",
       "    <tr>\n",
       "      <th>398</th>\n",
       "      <td>2025-03-01</td>\n",
       "      <td>118.89</td>\n",
       "      <td>115.21</td>\n",
       "      <td>112.23</td>\n",
       "      <td>0.91</td>\n",
       "    </tr>\n",
       "    <tr>\n",
       "      <th>399</th>\n",
       "      <td>2025-04-01</td>\n",
       "      <td>119.51</td>\n",
       "      <td>115.57</td>\n",
       "      <td>112.39</td>\n",
       "      <td>1.23</td>\n",
       "    </tr>\n",
       "    <tr>\n",
       "      <th>400</th>\n",
       "      <td>2025-05-01</td>\n",
       "      <td>119.29</td>\n",
       "      <td>115.51</td>\n",
       "      <td>112.44</td>\n",
       "      <td>1.17</td>\n",
       "    </tr>\n",
       "  </tbody>\n",
       "</table>\n",
       "<p>401 rows × 5 columns</p>\n",
       "</div>"
      ],
      "text/plain": [
       "         Fecha  \\\n",
       "0   1992-01-01   \n",
       "1   1992-02-01   \n",
       "2   1992-03-01   \n",
       "3   1992-04-01   \n",
       "4   1992-05-01   \n",
       "..         ...   \n",
       "396 2025-01-01   \n",
       "397 2025-02-01   \n",
       "398 2025-03-01   \n",
       "399 2025-04-01   \n",
       "400 2025-05-01   \n",
       "\n",
       "     Índice de precios Lima Metropolitana (índice Dic.2021 = 100) - IPC Alimentos y Energía  \\\n",
       "0                                                15.11                                        \n",
       "1                                                15.69                                        \n",
       "2                                                17.12                                        \n",
       "3                                                17.66                                        \n",
       "4                                                18.32                                        \n",
       "..                                                 ...                                        \n",
       "396                                             117.48                                        \n",
       "397                                             117.69                                        \n",
       "398                                             118.89                                        \n",
       "399                                             119.51                                        \n",
       "400                                             119.29                                        \n",
       "\n",
       "     Índice de precios Lima Metropolitana (índice Dic.2021 = 100) - Índice de Precios al Consumidor (IPC)  \\\n",
       "0                                                15.54                                                      \n",
       "1                                                16.28                                                      \n",
       "2                                                17.49                                                      \n",
       "3                                                18.04                                                      \n",
       "4                                                18.66                                                      \n",
       "..                                                 ...                                                      \n",
       "396                                             114.07                                                      \n",
       "397                                             114.28                                                      \n",
       "398                                             115.21                                                      \n",
       "399                                             115.57                                                      \n",
       "400                                             115.51                                                      \n",
       "\n",
       "     Índice de precios Lima Metropolitana (índice Dic.2021 = 100) - IPC Sin Alimentos y Energía  \\\n",
       "0                                                15.12                                            \n",
       "1                                                16.02                                            \n",
       "2                                                16.88                                            \n",
       "3                                                17.42                                            \n",
       "4                                                17.94                                            \n",
       "..                                                 ...                                            \n",
       "396                                             111.31                                            \n",
       "397                                             111.52                                            \n",
       "398                                             112.23                                            \n",
       "399                                             112.39                                            \n",
       "400                                             112.44                                            \n",
       "\n",
       "     Índice de precios Lima Metropolitana (var% acumulada) - IPC  \n",
       "0                                                 3.54            \n",
       "1                                                 8.45            \n",
       "2                                                16.52            \n",
       "3                                                20.22            \n",
       "4                                                24.35            \n",
       "..                                                 ...            \n",
       "396                                              -0.09            \n",
       "397                                               0.09            \n",
       "398                                               0.91            \n",
       "399                                               1.23            \n",
       "400                                               1.17            \n",
       "\n",
       "[401 rows x 5 columns]"
      ]
     },
     "execution_count": 47,
     "metadata": {},
     "output_type": "execute_result"
    }
   ],
   "source": [
    "tabla_inflacion"
   ]
  },
  {
   "cell_type": "markdown",
   "id": "7147cd03",
   "metadata": {},
   "source": [
    "# INDICADORES FINANCIEROS"
   ]
  }
 ],
 "metadata": {
  "colab": {
   "provenance": []
  },
  "kernelspec": {
   "display_name": "Python 3",
   "language": "python",
   "name": "python3"
  },
  "language_info": {
   "codemirror_mode": {
    "name": "ipython",
    "version": 3
   },
   "file_extension": ".py",
   "mimetype": "text/x-python",
   "name": "python",
   "nbconvert_exporter": "python",
   "pygments_lexer": "ipython3",
   "version": "3.13.5"
  }
 },
 "nbformat": 4,
 "nbformat_minor": 5
}
